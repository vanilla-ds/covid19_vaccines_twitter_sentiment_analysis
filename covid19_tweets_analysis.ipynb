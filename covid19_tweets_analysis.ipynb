{
 "cells": [
  {
   "cell_type": "code",
   "execution_count": 99,
   "metadata": {
    "collapsed": true
   },
   "outputs": [
    {
     "name": "stdout",
     "output_type": "stream",
     "text": [
      "Requirement already satisfied: tweepy in /Users/justinlim/opt/anaconda3/lib/python3.7/site-packages (3.10.0)\n",
      "Requirement already satisfied: requests[socks]>=2.11.1 in /Users/justinlim/opt/anaconda3/lib/python3.7/site-packages (from tweepy) (2.24.0)\n",
      "Requirement already satisfied: requests-oauthlib>=0.7.0 in /Users/justinlim/opt/anaconda3/lib/python3.7/site-packages (from tweepy) (1.3.0)\n",
      "Requirement already satisfied: six>=1.10.0 in /Users/justinlim/opt/anaconda3/lib/python3.7/site-packages (from tweepy) (1.15.0)\n",
      "Requirement already satisfied: requests>=2.0.0 in /Users/justinlim/opt/anaconda3/lib/python3.7/site-packages (from requests-oauthlib>=0.7.0->tweepy) (2.24.0)\n",
      "Requirement already satisfied: oauthlib>=3.0.0 in /Users/justinlim/opt/anaconda3/lib/python3.7/site-packages (from requests-oauthlib>=0.7.0->tweepy) (3.1.0)\n",
      "Requirement already satisfied: certifi>=2017.4.17 in /Users/justinlim/opt/anaconda3/lib/python3.7/site-packages (from requests>=2.0.0->requests-oauthlib>=0.7.0->tweepy) (2020.6.20)\n",
      "Requirement already satisfied: chardet<4,>=3.0.2 in /Users/justinlim/opt/anaconda3/lib/python3.7/site-packages (from requests>=2.0.0->requests-oauthlib>=0.7.0->tweepy) (3.0.4)\n",
      "Requirement already satisfied: idna<3,>=2.5 in /Users/justinlim/opt/anaconda3/lib/python3.7/site-packages (from requests>=2.0.0->requests-oauthlib>=0.7.0->tweepy) (2.10)\n",
      "Requirement already satisfied: urllib3!=1.25.0,!=1.25.1,<1.26,>=1.21.1 in /Users/justinlim/opt/anaconda3/lib/python3.7/site-packages (from requests>=2.0.0->requests-oauthlib>=0.7.0->tweepy) (1.25.10)\n",
      "Requirement already satisfied: certifi>=2017.4.17 in /Users/justinlim/opt/anaconda3/lib/python3.7/site-packages (from requests>=2.0.0->requests-oauthlib>=0.7.0->tweepy) (2020.6.20)\n",
      "Requirement already satisfied: chardet<4,>=3.0.2 in /Users/justinlim/opt/anaconda3/lib/python3.7/site-packages (from requests>=2.0.0->requests-oauthlib>=0.7.0->tweepy) (3.0.4)\n",
      "Requirement already satisfied: idna<3,>=2.5 in /Users/justinlim/opt/anaconda3/lib/python3.7/site-packages (from requests>=2.0.0->requests-oauthlib>=0.7.0->tweepy) (2.10)\n",
      "Requirement already satisfied: urllib3!=1.25.0,!=1.25.1,<1.26,>=1.21.1 in /Users/justinlim/opt/anaconda3/lib/python3.7/site-packages (from requests>=2.0.0->requests-oauthlib>=0.7.0->tweepy) (1.25.10)\n",
      "Requirement already satisfied: PySocks!=1.5.7,>=1.5.6 in /Users/justinlim/opt/anaconda3/lib/python3.7/site-packages (from requests[socks]>=2.11.1->tweepy) (1.7.1)\n",
      "\u001b[33mWARNING: You are using pip version 20.3.1; however, version 20.3.3 is available.\n",
      "You should consider upgrading via the '/Users/justinlim/opt/anaconda3/bin/python -m pip install --upgrade pip' command.\u001b[0m\n",
      "Requirement already satisfied: textblob in /Users/justinlim/opt/anaconda3/lib/python3.7/site-packages (0.15.3)\n",
      "Requirement already satisfied: nltk>=3.1 in /Users/justinlim/opt/anaconda3/lib/python3.7/site-packages (from textblob) (3.5)\n",
      "Requirement already satisfied: tqdm in /Users/justinlim/opt/anaconda3/lib/python3.7/site-packages (from nltk>=3.1->textblob) (4.49.0)\n",
      "Requirement already satisfied: joblib in /Users/justinlim/opt/anaconda3/lib/python3.7/site-packages (from nltk>=3.1->textblob) (0.16.0)\n",
      "Requirement already satisfied: regex in /Users/justinlim/opt/anaconda3/lib/python3.7/site-packages (from nltk>=3.1->textblob) (2020.7.14)\n",
      "Requirement already satisfied: click in /Users/justinlim/opt/anaconda3/lib/python3.7/site-packages (from nltk>=3.1->textblob) (7.1.2)\n",
      "\u001b[33mWARNING: You are using pip version 20.3.1; however, version 20.3.3 is available.\n",
      "You should consider upgrading via the '/Users/justinlim/opt/anaconda3/bin/python -m pip install --upgrade pip' command.\u001b[0m\n",
      "Collecting spacy\n",
      "  Downloading spacy-2.3.5-cp37-cp37m-macosx_10_9_x86_64.whl (10.2 MB)\n",
      "\u001b[K     |████████████████████████████████| 10.2 MB 7.4 MB/s eta 0:00:01\n",
      "\u001b[?25hRequirement already satisfied: requests<3.0.0,>=2.13.0 in /Users/justinlim/opt/anaconda3/lib/python3.7/site-packages (from spacy) (2.24.0)\n",
      "Requirement already satisfied: setuptools in /Users/justinlim/opt/anaconda3/lib/python3.7/site-packages (from spacy) (49.6.0.post20200814)\n",
      "Requirement already satisfied: numpy>=1.15.0 in /Users/justinlim/opt/anaconda3/lib/python3.7/site-packages (from spacy) (1.19.4)\n",
      "Requirement already satisfied: tqdm<5.0.0,>=4.38.0 in /Users/justinlim/opt/anaconda3/lib/python3.7/site-packages (from spacy) (4.49.0)\n",
      "Collecting blis<0.8.0,>=0.4.0\n",
      "  Downloading blis-0.7.4-cp37-cp37m-macosx_10_9_x86_64.whl (5.8 MB)\n",
      "\u001b[K     |████████████████████████████████| 5.8 MB 4.6 MB/s eta 0:00:01\n",
      "\u001b[?25hRequirement already satisfied: numpy>=1.15.0 in /Users/justinlim/opt/anaconda3/lib/python3.7/site-packages (from spacy) (1.19.4)\n",
      "Collecting catalogue<1.1.0,>=0.0.7\n",
      "  Downloading catalogue-1.0.0-py2.py3-none-any.whl (7.7 kB)\n",
      "Requirement already satisfied: importlib-metadata>=0.20 in /Users/justinlim/opt/anaconda3/lib/python3.7/site-packages (from catalogue<1.1.0,>=0.0.7->spacy) (1.7.0)\n",
      "Collecting cymem<2.1.0,>=2.0.2\n",
      "  Downloading cymem-2.0.5-cp37-cp37m-macosx_10_9_x86_64.whl (31 kB)\n",
      "Requirement already satisfied: zipp>=0.5 in /Users/justinlim/opt/anaconda3/lib/python3.7/site-packages (from importlib-metadata>=0.20->catalogue<1.1.0,>=0.0.7->spacy) (3.1.0)\n",
      "Collecting murmurhash<1.1.0,>=0.28.0\n",
      "  Downloading murmurhash-1.0.5-cp37-cp37m-macosx_10_9_x86_64.whl (18 kB)\n",
      "Collecting plac<1.2.0,>=0.9.6\n",
      "  Downloading plac-1.1.3-py2.py3-none-any.whl (20 kB)\n",
      "Collecting preshed<3.1.0,>=3.0.2\n",
      "  Downloading preshed-3.0.5-cp37-cp37m-macosx_10_9_x86_64.whl (104 kB)\n",
      "\u001b[K     |████████████████████████████████| 104 kB 10.6 MB/s eta 0:00:01\n",
      "\u001b[?25hRequirement already satisfied: idna<3,>=2.5 in /Users/justinlim/opt/anaconda3/lib/python3.7/site-packages (from requests<3.0.0,>=2.13.0->spacy) (2.10)\n",
      "Requirement already satisfied: certifi>=2017.4.17 in /Users/justinlim/opt/anaconda3/lib/python3.7/site-packages (from requests<3.0.0,>=2.13.0->spacy) (2020.6.20)\n",
      "Requirement already satisfied: chardet<4,>=3.0.2 in /Users/justinlim/opt/anaconda3/lib/python3.7/site-packages (from requests<3.0.0,>=2.13.0->spacy) (3.0.4)\n",
      "Requirement already satisfied: urllib3!=1.25.0,!=1.25.1,<1.26,>=1.21.1 in /Users/justinlim/opt/anaconda3/lib/python3.7/site-packages (from requests<3.0.0,>=2.13.0->spacy) (1.25.10)\n",
      "Collecting srsly<1.1.0,>=1.0.2\n",
      "  Downloading srsly-1.0.5-cp37-cp37m-macosx_10_9_x86_64.whl (177 kB)\n",
      "\u001b[K     |████████████████████████████████| 177 kB 13.9 MB/s eta 0:00:01\n",
      "\u001b[?25hCollecting thinc<7.5.0,>=7.4.1\n",
      "  Downloading thinc-7.4.5-cp37-cp37m-macosx_10_9_x86_64.whl (969 kB)\n",
      "\u001b[K     |████████████████████████████████| 969 kB 5.3 MB/s eta 0:00:01\n",
      "\u001b[?25hRequirement already satisfied: numpy>=1.15.0 in /Users/justinlim/opt/anaconda3/lib/python3.7/site-packages (from spacy) (1.19.4)\n",
      "Requirement already satisfied: tqdm<5.0.0,>=4.38.0 in /Users/justinlim/opt/anaconda3/lib/python3.7/site-packages (from spacy) (4.49.0)\n",
      "Collecting wasabi<1.1.0,>=0.4.0\n",
      "  Downloading wasabi-0.8.0-py3-none-any.whl (23 kB)\n",
      "Installing collected packages: murmurhash, cymem, wasabi, srsly, preshed, plac, catalogue, blis, thinc, spacy\n",
      "Successfully installed blis-0.7.4 catalogue-1.0.0 cymem-2.0.5 murmurhash-1.0.5 plac-1.1.3 preshed-3.0.5 spacy-2.3.5 srsly-1.0.5 thinc-7.4.5 wasabi-0.8.0\n",
      "\u001b[33mWARNING: You are using pip version 20.3.1; however, version 20.3.3 is available.\n",
      "You should consider upgrading via the '/Users/justinlim/opt/anaconda3/bin/python -m pip install --upgrade pip' command.\u001b[0m\n"
     ]
    }
   ],
   "source": [
    "# !pip install tweepy\n",
    "# !pip install textblob\n",
    "# !pip install spacy"
   ]
  },
  {
   "cell_type": "markdown",
   "metadata": {},
   "source": [
    "# COVID-19 Vaccine Twitter Sentiment Analysis"
   ]
  },
  {
   "cell_type": "markdown",
   "metadata": {},
   "source": [
    "Question: How do people in Twitter think about the recent COVID-19 vaccine?"
   ]
  },
  {
   "cell_type": "markdown",
   "metadata": {},
   "source": [
    "Steps to take:\n",
    "1. Scrap data from Twitter\n",
    "2. Clean data\n",
    "3. Exploratory Data Analysis\n",
    "4. Sentiment Analysis\n",
    "5. Insights"
   ]
  },
  {
   "cell_type": "code",
   "execution_count": 7,
   "metadata": {},
   "outputs": [],
   "source": [
    "%matplotlib inline\n",
    "import tweepy\n",
    "from tweepy import Stream\n",
    "from tweepy import OAuthHandler\n",
    "from tweepy.streaming import StreamListener\n",
    "import datetime as dt\n",
    "import pandas as pd\n",
    "import matplotlib.pyplot as plt\n",
    "import seaborn as sns\n",
    "import time\n",
    "from datetime import datetime\n",
    "from textblob import TextBlob\n",
    "from pprint import pprint\n",
    "import os\n",
    "import re\n",
    "import string\n",
    "import glob\n",
    "import getpass"
   ]
  },
  {
   "cell_type": "markdown",
   "metadata": {},
   "source": [
    "## Data Collection"
   ]
  },
  {
   "cell_type": "markdown",
   "metadata": {},
   "source": [
    "Scraping tweets using tweepy"
   ]
  },
  {
   "cell_type": "code",
   "execution_count": 10,
   "metadata": {},
   "outputs": [
    {
     "name": "stdout",
     "output_type": "stream",
     "text": [
      "Enter Consumer Key: ········\n",
      "Enter Consumer Secret: ········\n",
      "Enter Access Token: ········\n",
      "Enter Access Secret: ········\n"
     ]
    }
   ],
   "source": [
    "CONSUMER_KEY = getpass.getpass('Enter Consumer Key: ')\n",
    "CONSUMER_SECRET = getpass.getpass('Enter Consumer Secret: ')\n",
    "ACCESS_TOKEN = getpass.getpass('Enter Access Token: ')\n",
    "ACCESS_TOKEN_SECRET = getpass.getpass('Enter Access Secret: ')"
   ]
  },
  {
   "cell_type": "code",
   "execution_count": 11,
   "metadata": {},
   "outputs": [],
   "source": [
    "listener = StreamListener()\n",
    "auth = OAuthHandler(CONSUMER_KEY, CONSUMER_SECRET)\n",
    "auth.set_access_token(ACCESS_TOKEN, ACCESS_TOKEN_SECRET)\n",
    "api = tweepy.API(auth, wait_on_rate_limit=True)"
   ]
  },
  {
   "cell_type": "code",
   "execution_count": 6,
   "metadata": {},
   "outputs": [],
   "source": [
    "def scrape_tweets_to_csv(keywords, date_since, numTweets, numRuns):\n",
    "    # create a main dataframe to store data\n",
    "    tweets_df = pd.DataFrame(columns=['username', 'following', 'followers', 'totaltweets', \n",
    "                                      'tweetcreated', 'retweetcount', 'text', 'hashtags'])\n",
    "    # initiate time to keep track of time of entire scraping\n",
    "    program_start = time.time()\n",
    "    for i in range(0, numRuns):\n",
    "        start_run = time.time()\n",
    "        tweets = tweepy.Cursor(api.search, q=keywords, lang='en', \n",
    "                               since=date_since, tweet_mode='extended').items(numTweets)\n",
    "        tweet_list = [tweet for tweet in tweets]\n",
    "        \n",
    "        # keep track of tweets collected\n",
    "        noTweets = 0\n",
    "        # pull values\n",
    "        for tweet in tweet_list:\n",
    "            username = tweet.user.screen_name\n",
    "            following = tweet.user.friends_count\n",
    "            followers = tweet.user.followers_count\n",
    "            totaltweets = tweet.user.statuses_count\n",
    "            tweetcreated = tweet.created_at\n",
    "            retweetcount = tweet.retweet_count\n",
    "            hashtags = tweet.entities['hashtags']\n",
    "            try:\n",
    "                text = tweet.retweeted_status.full_text\n",
    "            # not a retweet\n",
    "            except AttributeError:\n",
    "                text = tweet.full_text\n",
    "            new_tweet = [username, following, followers, totaltweets, tweetcreated, retweetcount, text, hashtags]\n",
    "            # append to main dataframe\n",
    "            tweets_df.loc[len(tweets_df)] = new_tweet\n",
    "            \n",
    "            noTweets += 1\n",
    "        end_run = time.time()\n",
    "        # duration of each run\n",
    "        run_duration = round((end_run-start_run)/60, 2)\n",
    "        print('Number of tweets scraped for {} run is {}'.format(i+1, noTweets))\n",
    "        print('Duration of {} run is {}'.format(i+1, run_duration))\n",
    "        time.sleep(920)\n",
    "    # current timestamp\n",
    "    timestamp = datetime.today().strftime('%Y%m%d_%H%M%S')\n",
    "    # convert to csv\n",
    "    path = os.getcwd()\n",
    "    filename = path + '/data/' + timestamp + '_vaccines_tweets.csv'\n",
    "    tweets_df.to_csv(filename, index=False)\n",
    "    \n",
    "    # program ends\n",
    "    program_end = time.time()\n",
    "    program_duration = round((program_end-program_start)/60, 2)\n",
    "    print('Scraping Complete')\n",
    "    print('Duration of the program: {}'.format(program_duration))"
   ]
  },
  {
   "cell_type": "code",
   "execution_count": 364,
   "metadata": {
    "collapsed": true
   },
   "outputs": [
    {
     "data": {
      "text/plain": [
       "{'_api': <tweepy.api.API at 0x7fa84141c4d0>,\n",
       " '_json': {'created_at': 'Sat Jan 16 12:03:35 +0000 2021',\n",
       "  'id': 1350413386161524736,\n",
       "  'id_str': '1350413386161524736',\n",
       "  'full_text': 'https://t.co/pivOh01xon\\n\\nCoronavirus conspiracy theories could keep people from getting vaccinated if left unaddressed.\\n\\n#CoronaVaccines https://t.co/Ic6GWbjeUJ',\n",
       "  'truncated': False,\n",
       "  'display_text_range': [0, 136],\n",
       "  'entities': {'hashtags': [{'text': 'CoronaVaccines', 'indices': [121, 136]}],\n",
       "   'symbols': [],\n",
       "   'user_mentions': [],\n",
       "   'urls': [{'url': 'https://t.co/pivOh01xon',\n",
       "     'expanded_url': 'https://www.businessinsider.com/8-coronavirus-vaccine-myths-debunked-from-microchipping-to-mandates-2020-12?r=US&IR=T',\n",
       "     'display_url': 'businessinsider.com/8-coronavirus-…',\n",
       "     'indices': [0, 23]}],\n",
       "   'media': [{'id': 1350413241017659394,\n",
       "     'id_str': '1350413241017659394',\n",
       "     'indices': [137, 160],\n",
       "     'media_url': 'http://pbs.twimg.com/media/Er2hsBrXcAI3K__.jpg',\n",
       "     'media_url_https': 'https://pbs.twimg.com/media/Er2hsBrXcAI3K__.jpg',\n",
       "     'url': 'https://t.co/Ic6GWbjeUJ',\n",
       "     'display_url': 'pic.twitter.com/Ic6GWbjeUJ',\n",
       "     'expanded_url': 'https://twitter.com/MarianneSchro11/status/1350413386161524736/photo/1',\n",
       "     'type': 'photo',\n",
       "     'sizes': {'small': {'w': 680, 'h': 500, 'resize': 'fit'},\n",
       "      'thumb': {'w': 150, 'h': 150, 'resize': 'crop'},\n",
       "      'medium': {'w': 1000, 'h': 736, 'resize': 'fit'},\n",
       "      'large': {'w': 1000, 'h': 736, 'resize': 'fit'}}}]},\n",
       "  'extended_entities': {'media': [{'id': 1350413241017659394,\n",
       "     'id_str': '1350413241017659394',\n",
       "     'indices': [137, 160],\n",
       "     'media_url': 'http://pbs.twimg.com/media/Er2hsBrXcAI3K__.jpg',\n",
       "     'media_url_https': 'https://pbs.twimg.com/media/Er2hsBrXcAI3K__.jpg',\n",
       "     'url': 'https://t.co/Ic6GWbjeUJ',\n",
       "     'display_url': 'pic.twitter.com/Ic6GWbjeUJ',\n",
       "     'expanded_url': 'https://twitter.com/MarianneSchro11/status/1350413386161524736/photo/1',\n",
       "     'type': 'photo',\n",
       "     'sizes': {'small': {'w': 680, 'h': 500, 'resize': 'fit'},\n",
       "      'thumb': {'w': 150, 'h': 150, 'resize': 'crop'},\n",
       "      'medium': {'w': 1000, 'h': 736, 'resize': 'fit'},\n",
       "      'large': {'w': 1000, 'h': 736, 'resize': 'fit'}}}]},\n",
       "  'metadata': {'iso_language_code': 'en', 'result_type': 'recent'},\n",
       "  'source': '<a href=\"https://mobile.twitter.com\" rel=\"nofollow\">Twitter Web App</a>',\n",
       "  'in_reply_to_status_id': None,\n",
       "  'in_reply_to_status_id_str': None,\n",
       "  'in_reply_to_user_id': None,\n",
       "  'in_reply_to_user_id_str': None,\n",
       "  'in_reply_to_screen_name': None,\n",
       "  'user': {'id': 862658023,\n",
       "   'id_str': '862658023',\n",
       "   'name': 'Marianne Schroeder 🇧🇪 🇪🇺🇬🇧🇨🇭🌏',\n",
       "   'screen_name': 'MarianneSchro11',\n",
       "   'location': 'Zürich, Switzerland',\n",
       "   'description': 'Retired from IT World rat race. Sharing: #peace 🕊#StopTaxEvasion ❤️ #UBI #stoppartypolitics #environment #classicalmusic 🎶 #opera #yoga 🎾 #newMedia #smiles',\n",
       "   'url': None,\n",
       "   'entities': {'description': {'urls': []}},\n",
       "   'protected': False,\n",
       "   'followers_count': 2725,\n",
       "   'friends_count': 2084,\n",
       "   'listed_count': 384,\n",
       "   'created_at': 'Fri Oct 05 07:15:24 +0000 2012',\n",
       "   'favourites_count': 120262,\n",
       "   'utc_offset': None,\n",
       "   'time_zone': None,\n",
       "   'geo_enabled': False,\n",
       "   'verified': False,\n",
       "   'statuses_count': 110729,\n",
       "   'lang': None,\n",
       "   'contributors_enabled': False,\n",
       "   'is_translator': False,\n",
       "   'is_translation_enabled': False,\n",
       "   'profile_background_color': 'C6E2EE',\n",
       "   'profile_background_image_url': 'http://abs.twimg.com/images/themes/theme2/bg.gif',\n",
       "   'profile_background_image_url_https': 'https://abs.twimg.com/images/themes/theme2/bg.gif',\n",
       "   'profile_background_tile': False,\n",
       "   'profile_image_url': 'http://pbs.twimg.com/profile_images/1214133153314439168/LxpL-3G3_normal.jpg',\n",
       "   'profile_image_url_https': 'https://pbs.twimg.com/profile_images/1214133153314439168/LxpL-3G3_normal.jpg',\n",
       "   'profile_banner_url': 'https://pbs.twimg.com/profile_banners/862658023/1609929746',\n",
       "   'profile_link_color': '1F98C7',\n",
       "   'profile_sidebar_border_color': 'C6E2EE',\n",
       "   'profile_sidebar_fill_color': 'DAECF4',\n",
       "   'profile_text_color': '663B12',\n",
       "   'profile_use_background_image': True,\n",
       "   'has_extended_profile': False,\n",
       "   'default_profile': False,\n",
       "   'default_profile_image': False,\n",
       "   'following': False,\n",
       "   'follow_request_sent': False,\n",
       "   'notifications': False,\n",
       "   'translator_type': 'none'},\n",
       "  'geo': None,\n",
       "  'coordinates': None,\n",
       "  'place': None,\n",
       "  'contributors': None,\n",
       "  'is_quote_status': False,\n",
       "  'retweet_count': 1,\n",
       "  'favorite_count': 1,\n",
       "  'favorited': False,\n",
       "  'retweeted': False,\n",
       "  'possibly_sensitive': False,\n",
       "  'lang': 'en'},\n",
       " 'created_at': datetime.datetime(2021, 1, 16, 12, 3, 35),\n",
       " 'id': 1350413386161524736,\n",
       " 'id_str': '1350413386161524736',\n",
       " 'full_text': 'https://t.co/pivOh01xon\\n\\nCoronavirus conspiracy theories could keep people from getting vaccinated if left unaddressed.\\n\\n#CoronaVaccines https://t.co/Ic6GWbjeUJ',\n",
       " 'truncated': False,\n",
       " 'display_text_range': [0, 136],\n",
       " 'entities': {'hashtags': [{'text': 'CoronaVaccines', 'indices': [121, 136]}],\n",
       "  'symbols': [],\n",
       "  'user_mentions': [],\n",
       "  'urls': [{'url': 'https://t.co/pivOh01xon',\n",
       "    'expanded_url': 'https://www.businessinsider.com/8-coronavirus-vaccine-myths-debunked-from-microchipping-to-mandates-2020-12?r=US&IR=T',\n",
       "    'display_url': 'businessinsider.com/8-coronavirus-…',\n",
       "    'indices': [0, 23]}],\n",
       "  'media': [{'id': 1350413241017659394,\n",
       "    'id_str': '1350413241017659394',\n",
       "    'indices': [137, 160],\n",
       "    'media_url': 'http://pbs.twimg.com/media/Er2hsBrXcAI3K__.jpg',\n",
       "    'media_url_https': 'https://pbs.twimg.com/media/Er2hsBrXcAI3K__.jpg',\n",
       "    'url': 'https://t.co/Ic6GWbjeUJ',\n",
       "    'display_url': 'pic.twitter.com/Ic6GWbjeUJ',\n",
       "    'expanded_url': 'https://twitter.com/MarianneSchro11/status/1350413386161524736/photo/1',\n",
       "    'type': 'photo',\n",
       "    'sizes': {'small': {'w': 680, 'h': 500, 'resize': 'fit'},\n",
       "     'thumb': {'w': 150, 'h': 150, 'resize': 'crop'},\n",
       "     'medium': {'w': 1000, 'h': 736, 'resize': 'fit'},\n",
       "     'large': {'w': 1000, 'h': 736, 'resize': 'fit'}}}]},\n",
       " 'extended_entities': {'media': [{'id': 1350413241017659394,\n",
       "    'id_str': '1350413241017659394',\n",
       "    'indices': [137, 160],\n",
       "    'media_url': 'http://pbs.twimg.com/media/Er2hsBrXcAI3K__.jpg',\n",
       "    'media_url_https': 'https://pbs.twimg.com/media/Er2hsBrXcAI3K__.jpg',\n",
       "    'url': 'https://t.co/Ic6GWbjeUJ',\n",
       "    'display_url': 'pic.twitter.com/Ic6GWbjeUJ',\n",
       "    'expanded_url': 'https://twitter.com/MarianneSchro11/status/1350413386161524736/photo/1',\n",
       "    'type': 'photo',\n",
       "    'sizes': {'small': {'w': 680, 'h': 500, 'resize': 'fit'},\n",
       "     'thumb': {'w': 150, 'h': 150, 'resize': 'crop'},\n",
       "     'medium': {'w': 1000, 'h': 736, 'resize': 'fit'},\n",
       "     'large': {'w': 1000, 'h': 736, 'resize': 'fit'}}}]},\n",
       " 'metadata': {'iso_language_code': 'en', 'result_type': 'recent'},\n",
       " 'source': 'Twitter Web App',\n",
       " 'source_url': 'https://mobile.twitter.com',\n",
       " 'in_reply_to_status_id': None,\n",
       " 'in_reply_to_status_id_str': None,\n",
       " 'in_reply_to_user_id': None,\n",
       " 'in_reply_to_user_id_str': None,\n",
       " 'in_reply_to_screen_name': None,\n",
       " 'author': User(_api=<tweepy.api.API object at 0x7fa84141c4d0>, _json={'id': 862658023, 'id_str': '862658023', 'name': 'Marianne Schroeder 🇧🇪 🇪🇺🇬🇧🇨🇭🌏', 'screen_name': 'MarianneSchro11', 'location': 'Zürich, Switzerland', 'description': 'Retired from IT World rat race. Sharing: #peace 🕊#StopTaxEvasion ❤️ #UBI #stoppartypolitics #environment #classicalmusic 🎶 #opera #yoga 🎾 #newMedia #smiles', 'url': None, 'entities': {'description': {'urls': []}}, 'protected': False, 'followers_count': 2725, 'friends_count': 2084, 'listed_count': 384, 'created_at': 'Fri Oct 05 07:15:24 +0000 2012', 'favourites_count': 120262, 'utc_offset': None, 'time_zone': None, 'geo_enabled': False, 'verified': False, 'statuses_count': 110729, 'lang': None, 'contributors_enabled': False, 'is_translator': False, 'is_translation_enabled': False, 'profile_background_color': 'C6E2EE', 'profile_background_image_url': 'http://abs.twimg.com/images/themes/theme2/bg.gif', 'profile_background_image_url_https': 'https://abs.twimg.com/images/themes/theme2/bg.gif', 'profile_background_tile': False, 'profile_image_url': 'http://pbs.twimg.com/profile_images/1214133153314439168/LxpL-3G3_normal.jpg', 'profile_image_url_https': 'https://pbs.twimg.com/profile_images/1214133153314439168/LxpL-3G3_normal.jpg', 'profile_banner_url': 'https://pbs.twimg.com/profile_banners/862658023/1609929746', 'profile_link_color': '1F98C7', 'profile_sidebar_border_color': 'C6E2EE', 'profile_sidebar_fill_color': 'DAECF4', 'profile_text_color': '663B12', 'profile_use_background_image': True, 'has_extended_profile': False, 'default_profile': False, 'default_profile_image': False, 'following': False, 'follow_request_sent': False, 'notifications': False, 'translator_type': 'none'}, id=862658023, id_str='862658023', name='Marianne Schroeder 🇧🇪 🇪🇺🇬🇧🇨🇭🌏', screen_name='MarianneSchro11', location='Zürich, Switzerland', description='Retired from IT World rat race. Sharing: #peace 🕊#StopTaxEvasion ❤️ #UBI #stoppartypolitics #environment #classicalmusic 🎶 #opera #yoga 🎾 #newMedia #smiles', url=None, entities={'description': {'urls': []}}, protected=False, followers_count=2725, friends_count=2084, listed_count=384, created_at=datetime.datetime(2012, 10, 5, 7, 15, 24), favourites_count=120262, utc_offset=None, time_zone=None, geo_enabled=False, verified=False, statuses_count=110729, lang=None, contributors_enabled=False, is_translator=False, is_translation_enabled=False, profile_background_color='C6E2EE', profile_background_image_url='http://abs.twimg.com/images/themes/theme2/bg.gif', profile_background_image_url_https='https://abs.twimg.com/images/themes/theme2/bg.gif', profile_background_tile=False, profile_image_url='http://pbs.twimg.com/profile_images/1214133153314439168/LxpL-3G3_normal.jpg', profile_image_url_https='https://pbs.twimg.com/profile_images/1214133153314439168/LxpL-3G3_normal.jpg', profile_banner_url='https://pbs.twimg.com/profile_banners/862658023/1609929746', profile_link_color='1F98C7', profile_sidebar_border_color='C6E2EE', profile_sidebar_fill_color='DAECF4', profile_text_color='663B12', profile_use_background_image=True, has_extended_profile=False, default_profile=False, default_profile_image=False, following=False, follow_request_sent=False, notifications=False, translator_type='none'),\n",
       " 'user': User(_api=<tweepy.api.API object at 0x7fa84141c4d0>, _json={'id': 862658023, 'id_str': '862658023', 'name': 'Marianne Schroeder 🇧🇪 🇪🇺🇬🇧🇨🇭🌏', 'screen_name': 'MarianneSchro11', 'location': 'Zürich, Switzerland', 'description': 'Retired from IT World rat race. Sharing: #peace 🕊#StopTaxEvasion ❤️ #UBI #stoppartypolitics #environment #classicalmusic 🎶 #opera #yoga 🎾 #newMedia #smiles', 'url': None, 'entities': {'description': {'urls': []}}, 'protected': False, 'followers_count': 2725, 'friends_count': 2084, 'listed_count': 384, 'created_at': 'Fri Oct 05 07:15:24 +0000 2012', 'favourites_count': 120262, 'utc_offset': None, 'time_zone': None, 'geo_enabled': False, 'verified': False, 'statuses_count': 110729, 'lang': None, 'contributors_enabled': False, 'is_translator': False, 'is_translation_enabled': False, 'profile_background_color': 'C6E2EE', 'profile_background_image_url': 'http://abs.twimg.com/images/themes/theme2/bg.gif', 'profile_background_image_url_https': 'https://abs.twimg.com/images/themes/theme2/bg.gif', 'profile_background_tile': False, 'profile_image_url': 'http://pbs.twimg.com/profile_images/1214133153314439168/LxpL-3G3_normal.jpg', 'profile_image_url_https': 'https://pbs.twimg.com/profile_images/1214133153314439168/LxpL-3G3_normal.jpg', 'profile_banner_url': 'https://pbs.twimg.com/profile_banners/862658023/1609929746', 'profile_link_color': '1F98C7', 'profile_sidebar_border_color': 'C6E2EE', 'profile_sidebar_fill_color': 'DAECF4', 'profile_text_color': '663B12', 'profile_use_background_image': True, 'has_extended_profile': False, 'default_profile': False, 'default_profile_image': False, 'following': False, 'follow_request_sent': False, 'notifications': False, 'translator_type': 'none'}, id=862658023, id_str='862658023', name='Marianne Schroeder 🇧🇪 🇪🇺🇬🇧🇨🇭🌏', screen_name='MarianneSchro11', location='Zürich, Switzerland', description='Retired from IT World rat race. Sharing: #peace 🕊#StopTaxEvasion ❤️ #UBI #stoppartypolitics #environment #classicalmusic 🎶 #opera #yoga 🎾 #newMedia #smiles', url=None, entities={'description': {'urls': []}}, protected=False, followers_count=2725, friends_count=2084, listed_count=384, created_at=datetime.datetime(2012, 10, 5, 7, 15, 24), favourites_count=120262, utc_offset=None, time_zone=None, geo_enabled=False, verified=False, statuses_count=110729, lang=None, contributors_enabled=False, is_translator=False, is_translation_enabled=False, profile_background_color='C6E2EE', profile_background_image_url='http://abs.twimg.com/images/themes/theme2/bg.gif', profile_background_image_url_https='https://abs.twimg.com/images/themes/theme2/bg.gif', profile_background_tile=False, profile_image_url='http://pbs.twimg.com/profile_images/1214133153314439168/LxpL-3G3_normal.jpg', profile_image_url_https='https://pbs.twimg.com/profile_images/1214133153314439168/LxpL-3G3_normal.jpg', profile_banner_url='https://pbs.twimg.com/profile_banners/862658023/1609929746', profile_link_color='1F98C7', profile_sidebar_border_color='C6E2EE', profile_sidebar_fill_color='DAECF4', profile_text_color='663B12', profile_use_background_image=True, has_extended_profile=False, default_profile=False, default_profile_image=False, following=False, follow_request_sent=False, notifications=False, translator_type='none'),\n",
       " 'geo': None,\n",
       " 'coordinates': None,\n",
       " 'place': None,\n",
       " 'contributors': None,\n",
       " 'is_quote_status': False,\n",
       " 'retweet_count': 1,\n",
       " 'favorite_count': 1,\n",
       " 'favorited': False,\n",
       " 'retweeted': False,\n",
       " 'possibly_sensitive': False,\n",
       " 'lang': 'en'}"
      ]
     },
     "execution_count": 364,
     "metadata": {},
     "output_type": "execute_result"
    }
   ],
   "source": [
    "keywords = '#coronavaccines'\n",
    "date_since = '2021-01-13'\n",
    "tweets = tweepy.Cursor(api.search, q=keywords, lang='en', since=date_since, tweet_mode='extended').items(5)\n",
    "tweet_list = [tweet for tweet in tweets]\n",
    "# for tweet in tweet_list:\n",
    "#     print(tweet.created_at)\n",
    "tweet_list[0].__dict__"
   ]
  },
  {
   "cell_type": "code",
   "execution_count": 82,
   "metadata": {
    "collapsed": true
   },
   "outputs": [
    {
     "name": "stdout",
     "output_type": "stream",
     "text": [
      "Number of tweets scraped for 1 run is 2500\n",
      "Duration of 1 run is 9.33\n",
      "Number of tweets scraped for 2 run is 2500\n",
      "Duration of 2 run is 1.62\n",
      "Number of tweets scraped for 3 run is 2500\n",
      "Duration of 3 run is 1.68\n",
      "Number of tweets scraped for 4 run is 2500\n",
      "Duration of 4 run is 1.86\n",
      "Number of tweets scraped for 5 run is 2500\n",
      "Duration of 5 run is 1.86\n",
      "Number of tweets scraped for 6 run is 2500\n",
      "Duration of 6 run is 2.05\n",
      "Scraping Complete\n",
      "Duration of the program: 110.42\n"
     ]
    }
   ],
   "source": [
    "# initialize variables\n",
    "keywords = '#vaccines OR #coronavaccines OR vaccines OR covid19+vaccines'\n",
    "date_since = '2021-01-15'\n",
    "numTweets = 2500\n",
    "numRuns = 6\n",
    "\n",
    "# call the function\n",
    "scrape_tweets_to_csv(keywords, date_since, numTweets, numRuns)"
   ]
  },
  {
   "cell_type": "code",
   "execution_count": 268,
   "metadata": {
    "collapsed": true
   },
   "outputs": [
    {
     "name": "stdout",
     "output_type": "stream",
     "text": [
      "Number of tweets scraped for 1 run is 2500\n",
      "Duration of 1 run is 1.74\n",
      "Number of tweets scraped for 2 run is 2500\n",
      "Duration of 2 run is 1.82\n",
      "Number of tweets scraped for 3 run is 2500\n",
      "Duration of 3 run is 1.88\n",
      "Number of tweets scraped for 4 run is 2500\n",
      "Duration of 4 run is 1.94\n",
      "Number of tweets scraped for 5 run is 2500\n",
      "Duration of 5 run is 2.03\n",
      "Number of tweets scraped for 6 run is 2500\n",
      "Duration of 6 run is 2.04\n",
      "Scraping Complete\n",
      "Duration of the program: 103.47\n"
     ]
    }
   ],
   "source": [
    "# initialize variables\n",
    "keywords = '#vaccines OR #coronavaccines OR vaccines OR covid19+vaccines'\n",
    "date_since = '2021-01-16'\n",
    "numTweets = 2500\n",
    "numRuns = 6\n",
    "\n",
    "# call the function\n",
    "scrape_tweets_to_csv(keywords, date_since, numTweets, numRuns)"
   ]
  },
  {
   "cell_type": "code",
   "execution_count": 478,
   "metadata": {
    "collapsed": true
   },
   "outputs": [
    {
     "name": "stdout",
     "output_type": "stream",
     "text": [
      "Number of tweets scraped for 1 run is 2500\n",
      "Duration of 1 run is 1.62\n",
      "Number of tweets scraped for 2 run is 2500\n",
      "Duration of 2 run is 1.67\n",
      "Number of tweets scraped for 3 run is 2500\n",
      "Duration of 3 run is 1.79\n",
      "Number of tweets scraped for 4 run is 2500\n",
      "Duration of 4 run is 1.89\n",
      "Number of tweets scraped for 5 run is 2500\n",
      "Duration of 5 run is 1.94\n",
      "Number of tweets scraped for 6 run is 2500\n",
      "Duration of 6 run is 1.97\n",
      "Scraping Complete\n",
      "Duration of the program: 102.89\n"
     ]
    }
   ],
   "source": [
    "# initialize variables\n",
    "keywords = '#vaccines OR #coronavaccines OR vaccines OR covid19+vaccines'\n",
    "date_since = '2021-01-17'\n",
    "numTweets = 2500\n",
    "numRuns = 6\n",
    "\n",
    "# call the function\n",
    "scrape_tweets_to_csv(keywords, date_since, numTweets, numRuns)"
   ]
  },
  {
   "cell_type": "code",
   "execution_count": 6,
   "metadata": {},
   "outputs": [
    {
     "name": "stdout",
     "output_type": "stream",
     "text": [
      "(45000, 8)\n"
     ]
    }
   ],
   "source": [
    "# load all csv and create a dataframe\n",
    "data_path = os.getcwd() + '/data/'\n",
    "filenames = glob.glob(data_path + '/*.csv')\n",
    "base_list = []\n",
    "for filename in filenames:\n",
    "    base_list.append(pd.read_csv(filename))\n",
    "\n",
    "base_df = pd.concat(base_list, ignore_index = True)\n",
    "print(base_df.shape)"
   ]
  },
  {
   "cell_type": "code",
   "execution_count": 7,
   "metadata": {
    "scrolled": true
   },
   "outputs": [
    {
     "data": {
      "text/html": [
       "<div>\n",
       "<style scoped>\n",
       "    .dataframe tbody tr th:only-of-type {\n",
       "        vertical-align: middle;\n",
       "    }\n",
       "\n",
       "    .dataframe tbody tr th {\n",
       "        vertical-align: top;\n",
       "    }\n",
       "\n",
       "    .dataframe thead th {\n",
       "        text-align: right;\n",
       "    }\n",
       "</style>\n",
       "<table border=\"1\" class=\"dataframe\">\n",
       "  <thead>\n",
       "    <tr style=\"text-align: right;\">\n",
       "      <th></th>\n",
       "      <th>username</th>\n",
       "      <th>following</th>\n",
       "      <th>followers</th>\n",
       "      <th>totaltweets</th>\n",
       "      <th>tweetcreated</th>\n",
       "      <th>retweetcount</th>\n",
       "      <th>text</th>\n",
       "      <th>hashtags</th>\n",
       "    </tr>\n",
       "  </thead>\n",
       "  <tbody>\n",
       "    <tr>\n",
       "      <th>0</th>\n",
       "      <td>KittyKunoichi</td>\n",
       "      <td>275</td>\n",
       "      <td>43</td>\n",
       "      <td>3901</td>\n",
       "      <td>2021-01-17 16:33:50</td>\n",
       "      <td>1705</td>\n",
       "      <td>As more #COVID19 vaccine becomes available, mo...</td>\n",
       "      <td>[{'text': 'COVID19', 'indices': [20, 28]}]</td>\n",
       "    </tr>\n",
       "    <tr>\n",
       "      <th>1</th>\n",
       "      <td>reillyd123</td>\n",
       "      <td>239</td>\n",
       "      <td>11</td>\n",
       "      <td>3158</td>\n",
       "      <td>2021-01-17 16:33:49</td>\n",
       "      <td>0</td>\n",
       "      <td>@standardnews @EveningStandard In the history ...</td>\n",
       "      <td>[]</td>\n",
       "    </tr>\n",
       "    <tr>\n",
       "      <th>2</th>\n",
       "      <td>RAJESH21490629</td>\n",
       "      <td>236</td>\n",
       "      <td>29</td>\n",
       "      <td>14211</td>\n",
       "      <td>2021-01-17 16:33:48</td>\n",
       "      <td>735</td>\n",
       "      <td>India is the vaccine hub of the world. We have...</td>\n",
       "      <td>[]</td>\n",
       "    </tr>\n",
       "    <tr>\n",
       "      <th>3</th>\n",
       "      <td>CG_Cynic</td>\n",
       "      <td>950</td>\n",
       "      <td>355</td>\n",
       "      <td>33807</td>\n",
       "      <td>2021-01-17 16:33:47</td>\n",
       "      <td>4</td>\n",
       "      <td>The sunk costs of failed plans devised by larg...</td>\n",
       "      <td>[]</td>\n",
       "    </tr>\n",
       "    <tr>\n",
       "      <th>4</th>\n",
       "      <td>NayayoungIndia</td>\n",
       "      <td>1145</td>\n",
       "      <td>1459</td>\n",
       "      <td>449459</td>\n",
       "      <td>2021-01-17 16:33:47</td>\n",
       "      <td>223</td>\n",
       "      <td>India's ready to prove it's a Covid-19 vaccina...</td>\n",
       "      <td>[]</td>\n",
       "    </tr>\n",
       "  </tbody>\n",
       "</table>\n",
       "</div>"
      ],
      "text/plain": [
       "         username  following  followers  totaltweets         tweetcreated  \\\n",
       "0   KittyKunoichi        275         43         3901  2021-01-17 16:33:50   \n",
       "1      reillyd123        239         11         3158  2021-01-17 16:33:49   \n",
       "2  RAJESH21490629        236         29        14211  2021-01-17 16:33:48   \n",
       "3        CG_Cynic        950        355        33807  2021-01-17 16:33:47   \n",
       "4  NayayoungIndia       1145       1459       449459  2021-01-17 16:33:47   \n",
       "\n",
       "   retweetcount                                               text  \\\n",
       "0          1705  As more #COVID19 vaccine becomes available, mo...   \n",
       "1             0  @standardnews @EveningStandard In the history ...   \n",
       "2           735  India is the vaccine hub of the world. We have...   \n",
       "3             4  The sunk costs of failed plans devised by larg...   \n",
       "4           223  India's ready to prove it's a Covid-19 vaccina...   \n",
       "\n",
       "                                     hashtags  \n",
       "0  [{'text': 'COVID19', 'indices': [20, 28]}]  \n",
       "1                                          []  \n",
       "2                                          []  \n",
       "3                                          []  \n",
       "4                                          []  "
      ]
     },
     "execution_count": 7,
     "metadata": {},
     "output_type": "execute_result"
    }
   ],
   "source": [
    "base_df.head()"
   ]
  },
  {
   "cell_type": "markdown",
   "metadata": {},
   "source": [
    "## Data Cleaning"
   ]
  },
  {
   "cell_type": "markdown",
   "metadata": {},
   "source": [
    "Initial cleaning:\n",
    "- Lower case\n",
    "- Remove punctuations\n",
    "- Remove tags (e.g. @username)\n",
    "- Remove line break (\\n)\n",
    "- Remove URLs in the tweet\n",
    "- Remove words with numbers in between characters\n",
    "- Remove words that start with a number (e.g. 10queues)"
   ]
  },
  {
   "cell_type": "code",
   "execution_count": 8,
   "metadata": {},
   "outputs": [
    {
     "data": {
      "text/plain": [
       "'@standardnews @EveningStandard In the history of stupidity this Johnson government achieves top place . Lost £22 billion now can’t get us 2 vaccines!. 100000 dead and English Racist Pinocchio Media still Supporting Trump and Johnston!'"
      ]
     },
     "execution_count": 8,
     "metadata": {},
     "output_type": "execute_result"
    }
   ],
   "source": [
    "# example tweet\n",
    "base_df['text'].iloc[1]"
   ]
  },
  {
   "cell_type": "code",
   "execution_count": 9,
   "metadata": {},
   "outputs": [],
   "source": [
    "# create a corpus\n",
    "corpus_df = base_df"
   ]
  },
  {
   "cell_type": "code",
   "execution_count": 10,
   "metadata": {},
   "outputs": [],
   "source": [
    "# define a function that cleans the tweets\n",
    "def clean_text(text):\n",
    "    text = text.lower()\n",
    "    text = re.sub('\\n', ' ', text)\n",
    "    text = re.sub('@\\w*\\s', '', text)\n",
    "    text = re.sub(r'http\\S+', '', text)\n",
    "    text = re.sub('[%s]' % re.escape(string.punctuation), '', text)\n",
    "    text = re.sub('\\w*\\d\\w*\\s', '', text)\n",
    "    text = re.sub('(?<!\\S)\\d\\S*', '', text)\n",
    "    \n",
    "    return text"
   ]
  },
  {
   "cell_type": "code",
   "execution_count": 11,
   "metadata": {
    "scrolled": false
   },
   "outputs": [
    {
     "data": {
      "text/html": [
       "<div>\n",
       "<style scoped>\n",
       "    .dataframe tbody tr th:only-of-type {\n",
       "        vertical-align: middle;\n",
       "    }\n",
       "\n",
       "    .dataframe tbody tr th {\n",
       "        vertical-align: top;\n",
       "    }\n",
       "\n",
       "    .dataframe thead th {\n",
       "        text-align: right;\n",
       "    }\n",
       "</style>\n",
       "<table border=\"1\" class=\"dataframe\">\n",
       "  <thead>\n",
       "    <tr style=\"text-align: right;\">\n",
       "      <th></th>\n",
       "      <th>username</th>\n",
       "      <th>following</th>\n",
       "      <th>followers</th>\n",
       "      <th>totaltweets</th>\n",
       "      <th>tweetcreated</th>\n",
       "      <th>retweetcount</th>\n",
       "      <th>text</th>\n",
       "      <th>hashtags</th>\n",
       "    </tr>\n",
       "  </thead>\n",
       "  <tbody>\n",
       "    <tr>\n",
       "      <th>0</th>\n",
       "      <td>KittyKunoichi</td>\n",
       "      <td>275</td>\n",
       "      <td>43</td>\n",
       "      <td>3901</td>\n",
       "      <td>2021-01-17 16:33:50</td>\n",
       "      <td>1705</td>\n",
       "      <td>as more vaccine becomes available more groups ...</td>\n",
       "      <td>[{'text': 'COVID19', 'indices': [20, 28]}]</td>\n",
       "    </tr>\n",
       "    <tr>\n",
       "      <th>1</th>\n",
       "      <td>reillyd123</td>\n",
       "      <td>239</td>\n",
       "      <td>11</td>\n",
       "      <td>3158</td>\n",
       "      <td>2021-01-17 16:33:49</td>\n",
       "      <td>0</td>\n",
       "      <td>in the history of stupidity this johnson gover...</td>\n",
       "      <td>[]</td>\n",
       "    </tr>\n",
       "    <tr>\n",
       "      <th>2</th>\n",
       "      <td>RAJESH21490629</td>\n",
       "      <td>236</td>\n",
       "      <td>29</td>\n",
       "      <td>14211</td>\n",
       "      <td>2021-01-17 16:33:48</td>\n",
       "      <td>735</td>\n",
       "      <td>india is the vaccine hub of the world we have ...</td>\n",
       "      <td>[]</td>\n",
       "    </tr>\n",
       "    <tr>\n",
       "      <th>3</th>\n",
       "      <td>CG_Cynic</td>\n",
       "      <td>950</td>\n",
       "      <td>355</td>\n",
       "      <td>33807</td>\n",
       "      <td>2021-01-17 16:33:47</td>\n",
       "      <td>4</td>\n",
       "      <td>the sunk costs of failed plans devised by larg...</td>\n",
       "      <td>[]</td>\n",
       "    </tr>\n",
       "    <tr>\n",
       "      <th>4</th>\n",
       "      <td>NayayoungIndia</td>\n",
       "      <td>1145</td>\n",
       "      <td>1459</td>\n",
       "      <td>449459</td>\n",
       "      <td>2021-01-17 16:33:47</td>\n",
       "      <td>223</td>\n",
       "      <td>indias ready to prove its a vaccination superp...</td>\n",
       "      <td>[]</td>\n",
       "    </tr>\n",
       "  </tbody>\n",
       "</table>\n",
       "</div>"
      ],
      "text/plain": [
       "         username  following  followers  totaltweets         tweetcreated  \\\n",
       "0   KittyKunoichi        275         43         3901  2021-01-17 16:33:50   \n",
       "1      reillyd123        239         11         3158  2021-01-17 16:33:49   \n",
       "2  RAJESH21490629        236         29        14211  2021-01-17 16:33:48   \n",
       "3        CG_Cynic        950        355        33807  2021-01-17 16:33:47   \n",
       "4  NayayoungIndia       1145       1459       449459  2021-01-17 16:33:47   \n",
       "\n",
       "   retweetcount                                               text  \\\n",
       "0          1705  as more vaccine becomes available more groups ...   \n",
       "1             0  in the history of stupidity this johnson gover...   \n",
       "2           735  india is the vaccine hub of the world we have ...   \n",
       "3             4  the sunk costs of failed plans devised by larg...   \n",
       "4           223  indias ready to prove its a vaccination superp...   \n",
       "\n",
       "                                     hashtags  \n",
       "0  [{'text': 'COVID19', 'indices': [20, 28]}]  \n",
       "1                                          []  \n",
       "2                                          []  \n",
       "3                                          []  \n",
       "4                                          []  "
      ]
     },
     "execution_count": 11,
     "metadata": {},
     "output_type": "execute_result"
    }
   ],
   "source": [
    "# call the function to clean data\n",
    "corpus_df['text'] = corpus_df['text'].apply(lambda x: clean_text(x))\n",
    "corpus_df.head()"
   ]
  },
  {
   "cell_type": "code",
   "execution_count": 12,
   "metadata": {},
   "outputs": [
    {
     "data": {
      "text/html": [
       "<div>\n",
       "<style scoped>\n",
       "    .dataframe tbody tr th:only-of-type {\n",
       "        vertical-align: middle;\n",
       "    }\n",
       "\n",
       "    .dataframe tbody tr th {\n",
       "        vertical-align: top;\n",
       "    }\n",
       "\n",
       "    .dataframe thead th {\n",
       "        text-align: right;\n",
       "    }\n",
       "</style>\n",
       "<table border=\"1\" class=\"dataframe\">\n",
       "  <thead>\n",
       "    <tr style=\"text-align: right;\">\n",
       "      <th></th>\n",
       "      <th>username</th>\n",
       "      <th>following</th>\n",
       "      <th>followers</th>\n",
       "      <th>totaltweets</th>\n",
       "      <th>tweetcreated</th>\n",
       "      <th>retweetcount</th>\n",
       "      <th>text</th>\n",
       "      <th>hashtags</th>\n",
       "    </tr>\n",
       "  </thead>\n",
       "  <tbody>\n",
       "    <tr>\n",
       "      <th>44995</th>\n",
       "      <td>Linnyloots</td>\n",
       "      <td>5001</td>\n",
       "      <td>582</td>\n",
       "      <td>34073</td>\n",
       "      <td>2021-01-15 20:19:36</td>\n",
       "      <td>2189</td>\n",
       "      <td>why have vaccines been moved to mass hubs leav...</td>\n",
       "      <td>[]</td>\n",
       "    </tr>\n",
       "    <tr>\n",
       "      <th>44996</th>\n",
       "      <td>elle49</td>\n",
       "      <td>2253</td>\n",
       "      <td>1606</td>\n",
       "      <td>40892</td>\n",
       "      <td>2021-01-15 20:19:36</td>\n",
       "      <td>10</td>\n",
       "      <td>no she did exactly what you lot have been shou...</td>\n",
       "      <td>[]</td>\n",
       "    </tr>\n",
       "    <tr>\n",
       "      <th>44997</th>\n",
       "      <td>AlexMertle</td>\n",
       "      <td>97</td>\n",
       "      <td>32</td>\n",
       "      <td>2888</td>\n",
       "      <td>2021-01-15 20:19:35</td>\n",
       "      <td>15</td>\n",
       "      <td>this is ridiculous bordering on the criminal t...</td>\n",
       "      <td>[]</td>\n",
       "    </tr>\n",
       "    <tr>\n",
       "      <th>44998</th>\n",
       "      <td>MichaelOrndoff</td>\n",
       "      <td>62488</td>\n",
       "      <td>80947</td>\n",
       "      <td>473239</td>\n",
       "      <td>2021-01-15 20:19:34</td>\n",
       "      <td>19941</td>\n",
       "      <td>last night i received disturbing news confirme...</td>\n",
       "      <td>[]</td>\n",
       "    </tr>\n",
       "    <tr>\n",
       "      <th>44999</th>\n",
       "      <td>pinky_or_brain</td>\n",
       "      <td>1718</td>\n",
       "      <td>995</td>\n",
       "      <td>220314</td>\n",
       "      <td>2021-01-15 20:19:34</td>\n",
       "      <td>2</td>\n",
       "      <td>is anyone watching arizonas live stream from a...</td>\n",
       "      <td>[]</td>\n",
       "    </tr>\n",
       "  </tbody>\n",
       "</table>\n",
       "</div>"
      ],
      "text/plain": [
       "             username  following  followers  totaltweets         tweetcreated  \\\n",
       "44995      Linnyloots       5001        582        34073  2021-01-15 20:19:36   \n",
       "44996          elle49       2253       1606        40892  2021-01-15 20:19:36   \n",
       "44997      AlexMertle         97         32         2888  2021-01-15 20:19:35   \n",
       "44998  MichaelOrndoff      62488      80947       473239  2021-01-15 20:19:34   \n",
       "44999  pinky_or_brain       1718        995       220314  2021-01-15 20:19:34   \n",
       "\n",
       "       retweetcount                                               text  \\\n",
       "44995          2189  why have vaccines been moved to mass hubs leav...   \n",
       "44996            10  no she did exactly what you lot have been shou...   \n",
       "44997            15  this is ridiculous bordering on the criminal t...   \n",
       "44998         19941  last night i received disturbing news confirme...   \n",
       "44999             2  is anyone watching arizonas live stream from a...   \n",
       "\n",
       "      hashtags  \n",
       "44995       []  \n",
       "44996       []  \n",
       "44997       []  \n",
       "44998       []  \n",
       "44999       []  "
      ]
     },
     "execution_count": 12,
     "metadata": {},
     "output_type": "execute_result"
    }
   ],
   "source": [
    "corpus_df.tail()"
   ]
  },
  {
   "cell_type": "code",
   "execution_count": 13,
   "metadata": {},
   "outputs": [],
   "source": [
    "# define a function that removes unremoved special punctuations\n",
    "def remove_special_punc(text):\n",
    "    text = re.sub(\"(?<=[a-z])’(?=[a-z])\", \"\", text)\n",
    "    return text"
   ]
  },
  {
   "cell_type": "code",
   "execution_count": 14,
   "metadata": {},
   "outputs": [
    {
     "data": {
      "text/html": [
       "<div>\n",
       "<style scoped>\n",
       "    .dataframe tbody tr th:only-of-type {\n",
       "        vertical-align: middle;\n",
       "    }\n",
       "\n",
       "    .dataframe tbody tr th {\n",
       "        vertical-align: top;\n",
       "    }\n",
       "\n",
       "    .dataframe thead th {\n",
       "        text-align: right;\n",
       "    }\n",
       "</style>\n",
       "<table border=\"1\" class=\"dataframe\">\n",
       "  <thead>\n",
       "    <tr style=\"text-align: right;\">\n",
       "      <th></th>\n",
       "      <th>username</th>\n",
       "      <th>following</th>\n",
       "      <th>followers</th>\n",
       "      <th>totaltweets</th>\n",
       "      <th>tweetcreated</th>\n",
       "      <th>retweetcount</th>\n",
       "      <th>text</th>\n",
       "      <th>hashtags</th>\n",
       "    </tr>\n",
       "  </thead>\n",
       "  <tbody>\n",
       "    <tr>\n",
       "      <th>0</th>\n",
       "      <td>KittyKunoichi</td>\n",
       "      <td>275</td>\n",
       "      <td>43</td>\n",
       "      <td>3901</td>\n",
       "      <td>2021-01-17 16:33:50</td>\n",
       "      <td>1705</td>\n",
       "      <td>as more vaccine becomes available more groups ...</td>\n",
       "      <td>[{'text': 'COVID19', 'indices': [20, 28]}]</td>\n",
       "    </tr>\n",
       "    <tr>\n",
       "      <th>1</th>\n",
       "      <td>reillyd123</td>\n",
       "      <td>239</td>\n",
       "      <td>11</td>\n",
       "      <td>3158</td>\n",
       "      <td>2021-01-17 16:33:49</td>\n",
       "      <td>0</td>\n",
       "      <td>in the history of stupidity this johnson gover...</td>\n",
       "      <td>[]</td>\n",
       "    </tr>\n",
       "    <tr>\n",
       "      <th>2</th>\n",
       "      <td>RAJESH21490629</td>\n",
       "      <td>236</td>\n",
       "      <td>29</td>\n",
       "      <td>14211</td>\n",
       "      <td>2021-01-17 16:33:48</td>\n",
       "      <td>735</td>\n",
       "      <td>india is the vaccine hub of the world we have ...</td>\n",
       "      <td>[]</td>\n",
       "    </tr>\n",
       "    <tr>\n",
       "      <th>3</th>\n",
       "      <td>CG_Cynic</td>\n",
       "      <td>950</td>\n",
       "      <td>355</td>\n",
       "      <td>33807</td>\n",
       "      <td>2021-01-17 16:33:47</td>\n",
       "      <td>4</td>\n",
       "      <td>the sunk costs of failed plans devised by larg...</td>\n",
       "      <td>[]</td>\n",
       "    </tr>\n",
       "    <tr>\n",
       "      <th>4</th>\n",
       "      <td>NayayoungIndia</td>\n",
       "      <td>1145</td>\n",
       "      <td>1459</td>\n",
       "      <td>449459</td>\n",
       "      <td>2021-01-17 16:33:47</td>\n",
       "      <td>223</td>\n",
       "      <td>indias ready to prove its a vaccination superp...</td>\n",
       "      <td>[]</td>\n",
       "    </tr>\n",
       "  </tbody>\n",
       "</table>\n",
       "</div>"
      ],
      "text/plain": [
       "         username  following  followers  totaltweets         tweetcreated  \\\n",
       "0   KittyKunoichi        275         43         3901  2021-01-17 16:33:50   \n",
       "1      reillyd123        239         11         3158  2021-01-17 16:33:49   \n",
       "2  RAJESH21490629        236         29        14211  2021-01-17 16:33:48   \n",
       "3        CG_Cynic        950        355        33807  2021-01-17 16:33:47   \n",
       "4  NayayoungIndia       1145       1459       449459  2021-01-17 16:33:47   \n",
       "\n",
       "   retweetcount                                               text  \\\n",
       "0          1705  as more vaccine becomes available more groups ...   \n",
       "1             0  in the history of stupidity this johnson gover...   \n",
       "2           735  india is the vaccine hub of the world we have ...   \n",
       "3             4  the sunk costs of failed plans devised by larg...   \n",
       "4           223  indias ready to prove its a vaccination superp...   \n",
       "\n",
       "                                     hashtags  \n",
       "0  [{'text': 'COVID19', 'indices': [20, 28]}]  \n",
       "1                                          []  \n",
       "2                                          []  \n",
       "3                                          []  \n",
       "4                                          []  "
      ]
     },
     "execution_count": 14,
     "metadata": {},
     "output_type": "execute_result"
    }
   ],
   "source": [
    "# call the function to remove additional punctuations\n",
    "corpus_df['text'] = corpus_df['text'].apply(lambda x: remove_special_punc(x))\n",
    "corpus_df.head()"
   ]
  },
  {
   "cell_type": "markdown",
   "metadata": {},
   "source": [
    "## Exploratory Data Analysis"
   ]
  },
  {
   "cell_type": "code",
   "execution_count": 15,
   "metadata": {
    "scrolled": true,
    "slideshow": {
     "slide_type": "-"
    }
   },
   "outputs": [
    {
     "data": {
      "text/html": [
       "<div>\n",
       "<style scoped>\n",
       "    .dataframe tbody tr th:only-of-type {\n",
       "        vertical-align: middle;\n",
       "    }\n",
       "\n",
       "    .dataframe tbody tr th {\n",
       "        vertical-align: top;\n",
       "    }\n",
       "\n",
       "    .dataframe thead th {\n",
       "        text-align: right;\n",
       "    }\n",
       "</style>\n",
       "<table border=\"1\" class=\"dataframe\">\n",
       "  <thead>\n",
       "    <tr style=\"text-align: right;\">\n",
       "      <th></th>\n",
       "      <th>following</th>\n",
       "      <th>followers</th>\n",
       "      <th>totaltweets</th>\n",
       "      <th>retweetcount</th>\n",
       "    </tr>\n",
       "  </thead>\n",
       "  <tbody>\n",
       "    <tr>\n",
       "      <th>count</th>\n",
       "      <td>45000.000000</td>\n",
       "      <td>4.500000e+04</td>\n",
       "      <td>4.500000e+04</td>\n",
       "      <td>45000.000000</td>\n",
       "    </tr>\n",
       "    <tr>\n",
       "      <th>mean</th>\n",
       "      <td>1786.079556</td>\n",
       "      <td>1.863515e+04</td>\n",
       "      <td>5.383321e+04</td>\n",
       "      <td>2641.935933</td>\n",
       "    </tr>\n",
       "    <tr>\n",
       "      <th>std</th>\n",
       "      <td>7082.280033</td>\n",
       "      <td>4.243499e+05</td>\n",
       "      <td>1.153170e+05</td>\n",
       "      <td>6414.605404</td>\n",
       "    </tr>\n",
       "    <tr>\n",
       "      <th>min</th>\n",
       "      <td>0.000000</td>\n",
       "      <td>0.000000e+00</td>\n",
       "      <td>1.000000e+00</td>\n",
       "      <td>0.000000</td>\n",
       "    </tr>\n",
       "    <tr>\n",
       "      <th>25%</th>\n",
       "      <td>240.000000</td>\n",
       "      <td>1.060000e+02</td>\n",
       "      <td>3.658750e+03</td>\n",
       "      <td>1.000000</td>\n",
       "    </tr>\n",
       "    <tr>\n",
       "      <th>50%</th>\n",
       "      <td>669.000000</td>\n",
       "      <td>3.980000e+02</td>\n",
       "      <td>1.549050e+04</td>\n",
       "      <td>59.000000</td>\n",
       "    </tr>\n",
       "    <tr>\n",
       "      <th>75%</th>\n",
       "      <td>1820.000000</td>\n",
       "      <td>1.555000e+03</td>\n",
       "      <td>5.294300e+04</td>\n",
       "      <td>1551.000000</td>\n",
       "    </tr>\n",
       "    <tr>\n",
       "      <th>max</th>\n",
       "      <td>524831.000000</td>\n",
       "      <td>3.207237e+07</td>\n",
       "      <td>2.764317e+06</td>\n",
       "      <td>111062.000000</td>\n",
       "    </tr>\n",
       "  </tbody>\n",
       "</table>\n",
       "</div>"
      ],
      "text/plain": [
       "           following     followers   totaltweets   retweetcount\n",
       "count   45000.000000  4.500000e+04  4.500000e+04   45000.000000\n",
       "mean     1786.079556  1.863515e+04  5.383321e+04    2641.935933\n",
       "std      7082.280033  4.243499e+05  1.153170e+05    6414.605404\n",
       "min         0.000000  0.000000e+00  1.000000e+00       0.000000\n",
       "25%       240.000000  1.060000e+02  3.658750e+03       1.000000\n",
       "50%       669.000000  3.980000e+02  1.549050e+04      59.000000\n",
       "75%      1820.000000  1.555000e+03  5.294300e+04    1551.000000\n",
       "max    524831.000000  3.207237e+07  2.764317e+06  111062.000000"
      ]
     },
     "execution_count": 15,
     "metadata": {},
     "output_type": "execute_result"
    }
   ],
   "source": [
    "# explore statistics of numeric columns\n",
    "corpus_df.describe()"
   ]
  },
  {
   "cell_type": "markdown",
   "metadata": {},
   "source": [
    "### Followers & Followings"
   ]
  },
  {
   "cell_type": "code",
   "execution_count": 16,
   "metadata": {},
   "outputs": [
    {
     "data": {
      "text/plain": [
       "5818    NBA\n",
       "Name: username, dtype: object"
      ]
     },
     "execution_count": 16,
     "metadata": {},
     "output_type": "execute_result"
    }
   ],
   "source": [
    "# who has the most followers?\n",
    "corpus_df['username'][corpus_df['followers']==max(corpus_df['followers'])]"
   ]
  },
  {
   "cell_type": "code",
   "execution_count": 17,
   "metadata": {},
   "outputs": [
    {
     "data": {
      "text/plain": [
       "array(['htTweets', 'the_hindu', 'CBSNews', 'IndiaToday', 'TheEconomist',\n",
       "       'Lakers', 'NBA', 'ANI', 'business', 'XHNews', 'WSJ',\n",
       "       'ZeeNewsEnglish', 'TimesNow', 'ABSCBNNews', 'ABC', 'timesofindia',\n",
       "       'Forbes', 'ndtv', 'CGTNOfficial', 'Reuters'], dtype=object)"
      ]
     },
     "execution_count": 17,
     "metadata": {},
     "output_type": "execute_result"
    }
   ],
   "source": [
    "# users with followers more than 5,000,000\n",
    "corpus_df['username'][corpus_df['followers']>5000000].unique()"
   ]
  },
  {
   "cell_type": "code",
   "execution_count": 18,
   "metadata": {},
   "outputs": [
    {
     "name": "stderr",
     "output_type": "stream",
     "text": [
      "/Users/justinlim/opt/anaconda3/lib/python3.7/site-packages/ipykernel_launcher.py:1: FutureWarning: Indexing with multiple keys (implicitly converted to a tuple of keys) will be deprecated, use a list instead.\n",
      "  \"\"\"Entry point for launching an IPython kernel.\n"
     ]
    }
   ],
   "source": [
    "most_followers = corpus_df[corpus_df['followers']>5000000].groupby(['username'])['followers', 'following'].mean().sort_values(['followers'], ascending=False)"
   ]
  },
  {
   "cell_type": "code",
   "execution_count": 19,
   "metadata": {},
   "outputs": [
    {
     "data": {
      "image/png": "[encoded data removed]",
      "text/plain": [
       "<Figure size 576x576 with 1 Axes>"
      ]
     },
     "metadata": {},
     "output_type": "display_data"
    }
   ],
   "source": [
    "# Top 20 accounts with most followers\n",
    "sns.set(font_scale=1.2)\n",
    "fig = plt.subplots(figsize=(8,8))\n",
    "bar = sns.barplot(data=most_followers, x='followers', y=most_followers.index)\n",
    "bar.set_title('Top 20 Accounts with Most Followers\\n', fontsize=17, fontweight='bold')\n",
    "plt.tight_layout()\n",
    "plt.savefig(os.getcwd()+'/figures/'+'top20followers.png')\n",
    "plt.show()"
   ]
  },
  {
   "cell_type": "code",
   "execution_count": 20,
   "metadata": {},
   "outputs": [
    {
     "data": {
      "image/png": "[encoded data removed]",
      "text/plain": [
       "<Figure size 432x432 with 1 Axes>"
      ]
     },
     "metadata": {},
     "output_type": "display_data"
    }
   ],
   "source": [
    "# any correlation between number of followers and followings?\n",
    "sns.set(font_scale=1.2)\n",
    "fig = plt.subplots(figsize=(6,6))\n",
    "sns.scatterplot(data=corpus_df, x='following', y='followers').set_title('Relationship between\\n followers and followings?\\n\\n', \n",
    "                                                                        fontsize=17, fontweight='bold')\n",
    "plt.tight_layout()\n",
    "plt.savefig(os.getcwd()+'/figures/'+'followingvsfollowers.png')\n",
    "plt.show()"
   ]
  },
  {
   "cell_type": "code",
   "execution_count": 21,
   "metadata": {},
   "outputs": [
    {
     "data": {
      "image/png": "[encoded data removed]",
      "text/plain": [
       "<Figure size 432x432 with 1 Axes>"
      ]
     },
     "metadata": {},
     "output_type": "display_data"
    }
   ],
   "source": [
    "# how about when the plot is zoomed in?\n",
    "sns.set(font_scale=1.2)\n",
    "fig = plt.subplots(figsize=(6,6))\n",
    "g = sns.scatterplot(data=corpus_df, x='following', y='followers').set_title('Relationship between\\nfollowers and followings\\n(zoomed in to represent normal people like me)\\n', \n",
    "                                                                            fontweight='bold', fontsize=17)\n",
    "plt.ylim(0, 50000)\n",
    "plt.xlim(0, 50000)\n",
    "plt.tight_layout()\n",
    "plt.savefig(os.getcwd()+'/figures/'+'followingvsfollowers_public.png')\n",
    "plt.show()"
   ]
  },
  {
   "cell_type": "markdown",
   "metadata": {},
   "source": [
    "#### Findings :\n",
    "Among tweets about COVID19 vaccines:\n",
    "- the user with the most followers is NBA\n",
    "- the users with more than 5 million followers are mostly news channels\n",
    "- relationship between followers and followings:\n",
    "    - Accounts with more than 5 million followers tend to have relatively low number of followings\n",
    "    - However, when the plot is zoomed into less than 50,000 followers and followings (represents general public), positive linear correlation is observed.\n",
    "    - For general public, followers tend to increase when following increase, vice versa, but causation is not identified."
   ]
  },
  {
   "cell_type": "markdown",
   "metadata": {},
   "source": [
    "## Sentiment Analysis\n",
    "- Polarity: \n",
    "    - Range from -1 to +1\n",
    "    - Closer +1, more positive\n",
    "    - Closer to -1, more negative\n",
    "- Subjectivity:\n",
    "    - Range from 0 to +1\n",
    "    - Closer to 0, more objective\n",
    "    - Closer to 1, more subjective\n",
    "    \n",
    "    \n",
    "- For the sentiment analysis, average polarity and subjectivity will be analyzed for three groups to gain overall sentiment for each group:\n",
    "    1. Entire dataset\n",
    "    2. Influencers with greater than or equal to 50,000 followers\n",
    "    3. General public with less than 50,000 followers\n",
    "    \n",
    "- Assumptions:\n",
    "    - Polarity greater than 0 is categorized as positive\n",
    "    - Polarity less than 0 is categorized as negative\n",
    "    - Polarity equal to 0 is categorized as neutral\n",
    "    - User is assumed to be an influencer if number of followers is greater than or equal to 50,000\n",
    "    - User is assumed to be a non-influencer if number of followers is less than 50,000"
   ]
  },
  {
   "cell_type": "code",
   "execution_count": 22,
   "metadata": {},
   "outputs": [],
   "source": [
    "def polar_generator(text):\n",
    "    polarity = TextBlob(text).sentiment.polarity\n",
    "    \n",
    "    return polarity"
   ]
  },
  {
   "cell_type": "code",
   "execution_count": 23,
   "metadata": {},
   "outputs": [],
   "source": [
    "def subj_generator(text):\n",
    "    subjectivity = TextBlob(text).sentiment.subjectivity\n",
    "    \n",
    "    return subjectivity"
   ]
  },
  {
   "cell_type": "code",
   "execution_count": 24,
   "metadata": {},
   "outputs": [],
   "source": [
    "def sentiment_generator(polarity):\n",
    "    if polarity == 0:\n",
    "        sentiment = 'Neutral'\n",
    "    elif polarity < 0:\n",
    "        sentiment = 'Negative'\n",
    "    elif polarity > 0:\n",
    "        sentiment = 'Positive'\n",
    "        \n",
    "    return sentiment"
   ]
  },
  {
   "cell_type": "code",
   "execution_count": 25,
   "metadata": {},
   "outputs": [],
   "source": [
    "def influencer_identifier(followers):\n",
    "    if followers >= 50000:\n",
    "        influencer = 1\n",
    "    else:\n",
    "        influencer = 0\n",
    "        \n",
    "    return influencer"
   ]
  },
  {
   "cell_type": "code",
   "execution_count": 26,
   "metadata": {},
   "outputs": [],
   "source": [
    "# generate polarity and subjectivity\n",
    "corpus_df['polarity'] = corpus_df['text'].apply(lambda x: polar_generator(x))\n",
    "corpus_df['subjectivity'] = corpus_df['text'].apply(lambda x: subj_generator(x))"
   ]
  },
  {
   "cell_type": "code",
   "execution_count": 27,
   "metadata": {},
   "outputs": [],
   "source": [
    "# categorize polarity into sentiments (positive, negative, neutral)\n",
    "# Positive: polarity > 0\n",
    "# Neutral: polarity == 0\n",
    "# Negatvie: polarity < 0\n",
    "corpus_df['sentiment'] = corpus_df['polarity'].apply(lambda x: sentiment_generator(x))"
   ]
  },
  {
   "cell_type": "code",
   "execution_count": 28,
   "metadata": {},
   "outputs": [
    {
     "data": {
      "text/html": [
       "<div>\n",
       "<style scoped>\n",
       "    .dataframe tbody tr th:only-of-type {\n",
       "        vertical-align: middle;\n",
       "    }\n",
       "\n",
       "    .dataframe tbody tr th {\n",
       "        vertical-align: top;\n",
       "    }\n",
       "\n",
       "    .dataframe thead th {\n",
       "        text-align: right;\n",
       "    }\n",
       "</style>\n",
       "<table border=\"1\" class=\"dataframe\">\n",
       "  <thead>\n",
       "    <tr style=\"text-align: right;\">\n",
       "      <th></th>\n",
       "      <th>username</th>\n",
       "      <th>following</th>\n",
       "      <th>followers</th>\n",
       "      <th>totaltweets</th>\n",
       "      <th>tweetcreated</th>\n",
       "      <th>retweetcount</th>\n",
       "      <th>text</th>\n",
       "      <th>hashtags</th>\n",
       "      <th>polarity</th>\n",
       "      <th>subjectivity</th>\n",
       "      <th>sentiment</th>\n",
       "      <th>influencer</th>\n",
       "    </tr>\n",
       "  </thead>\n",
       "  <tbody>\n",
       "    <tr>\n",
       "      <th>0</th>\n",
       "      <td>KittyKunoichi</td>\n",
       "      <td>275</td>\n",
       "      <td>43</td>\n",
       "      <td>3901</td>\n",
       "      <td>2021-01-17 16:33:50</td>\n",
       "      <td>1705</td>\n",
       "      <td>as more vaccine becomes available more groups ...</td>\n",
       "      <td>[{'text': 'COVID19', 'indices': [20, 28]}]</td>\n",
       "      <td>0.480000</td>\n",
       "      <td>0.505000</td>\n",
       "      <td>Positive</td>\n",
       "      <td>0</td>\n",
       "    </tr>\n",
       "    <tr>\n",
       "      <th>1</th>\n",
       "      <td>reillyd123</td>\n",
       "      <td>239</td>\n",
       "      <td>11</td>\n",
       "      <td>3158</td>\n",
       "      <td>2021-01-17 16:33:49</td>\n",
       "      <td>0</td>\n",
       "      <td>in the history of stupidity this johnson gover...</td>\n",
       "      <td>[]</td>\n",
       "      <td>-0.010000</td>\n",
       "      <td>0.430000</td>\n",
       "      <td>Negative</td>\n",
       "      <td>0</td>\n",
       "    </tr>\n",
       "    <tr>\n",
       "      <th>2</th>\n",
       "      <td>RAJESH21490629</td>\n",
       "      <td>236</td>\n",
       "      <td>29</td>\n",
       "      <td>14211</td>\n",
       "      <td>2021-01-17 16:33:48</td>\n",
       "      <td>735</td>\n",
       "      <td>india is the vaccine hub of the world we have ...</td>\n",
       "      <td>[]</td>\n",
       "      <td>0.334091</td>\n",
       "      <td>0.538636</td>\n",
       "      <td>Positive</td>\n",
       "      <td>0</td>\n",
       "    </tr>\n",
       "    <tr>\n",
       "      <th>3</th>\n",
       "      <td>CG_Cynic</td>\n",
       "      <td>950</td>\n",
       "      <td>355</td>\n",
       "      <td>33807</td>\n",
       "      <td>2021-01-17 16:33:47</td>\n",
       "      <td>4</td>\n",
       "      <td>the sunk costs of failed plans devised by larg...</td>\n",
       "      <td>[]</td>\n",
       "      <td>0.056190</td>\n",
       "      <td>0.412381</td>\n",
       "      <td>Positive</td>\n",
       "      <td>0</td>\n",
       "    </tr>\n",
       "    <tr>\n",
       "      <th>4</th>\n",
       "      <td>NayayoungIndia</td>\n",
       "      <td>1145</td>\n",
       "      <td>1459</td>\n",
       "      <td>449459</td>\n",
       "      <td>2021-01-17 16:33:47</td>\n",
       "      <td>223</td>\n",
       "      <td>indias ready to prove its a vaccination superp...</td>\n",
       "      <td>[]</td>\n",
       "      <td>0.316667</td>\n",
       "      <td>0.583333</td>\n",
       "      <td>Positive</td>\n",
       "      <td>0</td>\n",
       "    </tr>\n",
       "  </tbody>\n",
       "</table>\n",
       "</div>"
      ],
      "text/plain": [
       "         username  following  followers  totaltweets         tweetcreated  \\\n",
       "0   KittyKunoichi        275         43         3901  2021-01-17 16:33:50   \n",
       "1      reillyd123        239         11         3158  2021-01-17 16:33:49   \n",
       "2  RAJESH21490629        236         29        14211  2021-01-17 16:33:48   \n",
       "3        CG_Cynic        950        355        33807  2021-01-17 16:33:47   \n",
       "4  NayayoungIndia       1145       1459       449459  2021-01-17 16:33:47   \n",
       "\n",
       "   retweetcount                                               text  \\\n",
       "0          1705  as more vaccine becomes available more groups ...   \n",
       "1             0  in the history of stupidity this johnson gover...   \n",
       "2           735  india is the vaccine hub of the world we have ...   \n",
       "3             4  the sunk costs of failed plans devised by larg...   \n",
       "4           223  indias ready to prove its a vaccination superp...   \n",
       "\n",
       "                                     hashtags  polarity  subjectivity  \\\n",
       "0  [{'text': 'COVID19', 'indices': [20, 28]}]  0.480000      0.505000   \n",
       "1                                          [] -0.010000      0.430000   \n",
       "2                                          []  0.334091      0.538636   \n",
       "3                                          []  0.056190      0.412381   \n",
       "4                                          []  0.316667      0.583333   \n",
       "\n",
       "  sentiment  influencer  \n",
       "0  Positive           0  \n",
       "1  Negative           0  \n",
       "2  Positive           0  \n",
       "3  Positive           0  \n",
       "4  Positive           0  "
      ]
     },
     "execution_count": 28,
     "metadata": {},
     "output_type": "execute_result"
    }
   ],
   "source": [
    "# identify if the user is influencer or not\n",
    "# influencer == 1: influencer (followers >= 50000)\n",
    "# influencer == 0: non-influencer (followers < 50000)\n",
    "corpus_df['influencer'] = corpus_df['followers'].apply(lambda x: influencer_identifier(x))\n",
    "corpus_df.head()"
   ]
  },
  {
   "cell_type": "code",
   "execution_count": 29,
   "metadata": {},
   "outputs": [
    {
     "name": "stdout",
     "output_type": "stream",
     "text": [
      "Number of total tweets: 45000\n",
      "Average Polarity: 0.101\n",
      "Average Subjectivity: 0.399\n"
     ]
    }
   ],
   "source": [
    "# Entire data\n",
    "print('Number of total tweets: {}'.format(len(corpus_df)))\n",
    "print('Average Polarity: {}'.format(round(sum(corpus_df.polarity)/len(corpus_df), 4)))\n",
    "print('Average Subjectivity: {}'.format(round(sum(corpus_df.subjectivity)/len(corpus_df), 4)))"
   ]
  },
  {
   "cell_type": "code",
   "execution_count": 30,
   "metadata": {},
   "outputs": [],
   "source": [
    "# influencers with greater than or equal to 50,000 followers\n",
    "influencers = corpus_df[corpus_df['influencer']==1]"
   ]
  },
  {
   "cell_type": "code",
   "execution_count": 31,
   "metadata": {},
   "outputs": [
    {
     "name": "stdout",
     "output_type": "stream",
     "text": [
      "Number of Influencers: 663\n",
      "Average Polarity of Influencers: 0.1126\n",
      "Average Subjectivity of Influencers: 0.3711\n"
     ]
    }
   ],
   "source": [
    "print('Number of Influencers: {}'.format(len(influencers)))\n",
    "print('Average Polarity of Influencers: {}'.format(round(sum(influencers.polarity)/len(influencers), 4)))\n",
    "print('Average Subjectivity of Influencers: {}'.format(round(sum(influencers.subjectivity)/len(influencers), 4)))"
   ]
  },
  {
   "cell_type": "code",
   "execution_count": 32,
   "metadata": {},
   "outputs": [],
   "source": [
    "# general public with less than 50,000 followers\n",
    "general_public = corpus_df[corpus_df['influencer']==0]"
   ]
  },
  {
   "cell_type": "code",
   "execution_count": 33,
   "metadata": {},
   "outputs": [
    {
     "name": "stdout",
     "output_type": "stream",
     "text": [
      "Number of Public: 44337\n",
      "Average Polarity of General Public: 0.1009\n",
      "Average Subjectivity of General Public: 0.3994\n"
     ]
    }
   ],
   "source": [
    "print('Number of Public: {}'.format(len(general_public)))\n",
    "print('Average Polarity of General Public: {}'.format(round(sum(general_public.polarity)/len(general_public), 4)))\n",
    "print('Average Subjectivity of General Public: {}'.format(round(sum(general_public.subjectivity)/len(general_public), 4)))"
   ]
  },
  {
   "cell_type": "markdown",
   "metadata": {},
   "source": [
    "### Visualization"
   ]
  },
  {
   "cell_type": "code",
   "execution_count": 34,
   "metadata": {
    "scrolled": true
   },
   "outputs": [
    {
     "data": {
      "image/png": "[encoded data removed]",
      "text/plain": [
       "<Figure size 432x288 with 1 Axes>"
      ]
     },
     "metadata": {},
     "output_type": "display_data"
    }
   ],
   "source": [
    "# count of sentiments over entire dataset\n",
    "labels = ['Positive', 'Neutral', 'Negative']\n",
    "sns.set(font_scale=1.3)\n",
    "ax = sns.countplot(data=corpus_df, x='sentiment', order=labels)\n",
    "ax.set_title('Overall Sentiment on COVID-19 Vaccines\\n', fontsize=17, fontweight='bold')\n",
    "plt.show()"
   ]
  },
  {
   "cell_type": "code",
   "execution_count": 35,
   "metadata": {},
   "outputs": [
    {
     "data": {
      "image/png": "[encoded data removed]",
      "text/plain": [
       "<Figure size 432x288 with 1 Axes>"
      ]
     },
     "metadata": {},
     "output_type": "display_data"
    }
   ],
   "source": [
    "# count of sentiments among influencers\n",
    "sns.set(font_scale=1.3)\n",
    "ax = sns.countplot(data=influencers, x='sentiment', order=labels)\n",
    "ax.set_title('Influencers Sentiment on COVID-19 Vaccines\\n', fontsize=17, fontweight='bold')\n",
    "plt.show()"
   ]
  },
  {
   "cell_type": "code",
   "execution_count": 36,
   "metadata": {
    "scrolled": true
   },
   "outputs": [
    {
     "data": {
      "image/png": "[encoded data removed]",
      "text/plain": [
       "<Figure size 432x288 with 1 Axes>"
      ]
     },
     "metadata": {},
     "output_type": "display_data"
    }
   ],
   "source": [
    "# count of sentiments among general public\n",
    "sns.set(font_scale=1.3)\n",
    "ax = sns.countplot(data=general_public, x='sentiment', order=labels)\n",
    "ax.set_title('Public Sentiment on COVID-19 Vaccines\\n', fontsize=17, fontweight='bold')\n",
    "plt.show()"
   ]
  },
  {
   "cell_type": "code",
   "execution_count": 37,
   "metadata": {},
   "outputs": [
    {
     "data": {
      "text/html": [
       "<div>\n",
       "<style scoped>\n",
       "    .dataframe tbody tr th:only-of-type {\n",
       "        vertical-align: middle;\n",
       "    }\n",
       "\n",
       "    .dataframe tbody tr th {\n",
       "        vertical-align: top;\n",
       "    }\n",
       "\n",
       "    .dataframe thead th {\n",
       "        text-align: right;\n",
       "    }\n",
       "</style>\n",
       "<table border=\"1\" class=\"dataframe\">\n",
       "  <thead>\n",
       "    <tr style=\"text-align: right;\">\n",
       "      <th></th>\n",
       "      <th>sentiment</th>\n",
       "      <th>count</th>\n",
       "      <th>percentage</th>\n",
       "    </tr>\n",
       "  </thead>\n",
       "  <tbody>\n",
       "    <tr>\n",
       "      <th>0</th>\n",
       "      <td>Negative</td>\n",
       "      <td>13214</td>\n",
       "      <td>29.36</td>\n",
       "    </tr>\n",
       "    <tr>\n",
       "      <th>1</th>\n",
       "      <td>Neutral</td>\n",
       "      <td>10602</td>\n",
       "      <td>23.56</td>\n",
       "    </tr>\n",
       "    <tr>\n",
       "      <th>2</th>\n",
       "      <td>Positive</td>\n",
       "      <td>21184</td>\n",
       "      <td>47.08</td>\n",
       "    </tr>\n",
       "  </tbody>\n",
       "</table>\n",
       "</div>"
      ],
      "text/plain": [
       "  sentiment  count  percentage\n",
       "0  Negative  13214       29.36\n",
       "1   Neutral  10602       23.56\n",
       "2  Positive  21184       47.08"
      ]
     },
     "execution_count": 37,
     "metadata": {},
     "output_type": "execute_result"
    }
   ],
   "source": [
    "# calculate percentage by grouping by sentiments\n",
    "sentiment_count = corpus_df.groupby('sentiment')['text'].count().reset_index(name='count')\n",
    "sentiment_count['percentage'] = round(100 * sentiment_count['count'] / sentiment_count['count'].sum(), 2)\n",
    "sentiment_count"
   ]
  },
  {
   "cell_type": "code",
   "execution_count": 38,
   "metadata": {},
   "outputs": [
    {
     "data": {
      "text/html": [
       "<div>\n",
       "<style scoped>\n",
       "    .dataframe tbody tr th:only-of-type {\n",
       "        vertical-align: middle;\n",
       "    }\n",
       "\n",
       "    .dataframe tbody tr th {\n",
       "        vertical-align: top;\n",
       "    }\n",
       "\n",
       "    .dataframe thead th {\n",
       "        text-align: right;\n",
       "    }\n",
       "</style>\n",
       "<table border=\"1\" class=\"dataframe\">\n",
       "  <thead>\n",
       "    <tr style=\"text-align: right;\">\n",
       "      <th></th>\n",
       "      <th>sentiment</th>\n",
       "      <th>text</th>\n",
       "    </tr>\n",
       "    <tr>\n",
       "      <th>influencer</th>\n",
       "      <th></th>\n",
       "      <th></th>\n",
       "    </tr>\n",
       "  </thead>\n",
       "  <tbody>\n",
       "    <tr>\n",
       "      <th>0</th>\n",
       "      <td>Negative</td>\n",
       "      <td>29.539662</td>\n",
       "    </tr>\n",
       "    <tr>\n",
       "      <th>0</th>\n",
       "      <td>Neutral</td>\n",
       "      <td>23.461217</td>\n",
       "    </tr>\n",
       "    <tr>\n",
       "      <th>0</th>\n",
       "      <td>Positive</td>\n",
       "      <td>46.999120</td>\n",
       "    </tr>\n",
       "    <tr>\n",
       "      <th>1</th>\n",
       "      <td>Negative</td>\n",
       "      <td>17.647059</td>\n",
       "    </tr>\n",
       "    <tr>\n",
       "      <th>1</th>\n",
       "      <td>Neutral</td>\n",
       "      <td>30.165913</td>\n",
       "    </tr>\n",
       "    <tr>\n",
       "      <th>1</th>\n",
       "      <td>Positive</td>\n",
       "      <td>52.187029</td>\n",
       "    </tr>\n",
       "  </tbody>\n",
       "</table>\n",
       "</div>"
      ],
      "text/plain": [
       "           sentiment       text\n",
       "influencer                     \n",
       "0           Negative  29.539662\n",
       "0            Neutral  23.461217\n",
       "0           Positive  46.999120\n",
       "1           Negative  17.647059\n",
       "1            Neutral  30.165913\n",
       "1           Positive  52.187029"
      ]
     },
     "execution_count": 38,
     "metadata": {},
     "output_type": "execute_result"
    }
   ],
   "source": [
    "# compare sentiments between influencers and general public\n",
    "sentiment_comparison = corpus_df.groupby(['influencer', 'sentiment']).agg({'text':'count'})\n",
    "sentiment_comparison = sentiment_comparison.groupby(level=0).apply(lambda x: 100 * x / float(x.sum())).reset_index()\n",
    "sentiment_comparison.set_index('influencer', inplace=True)\n",
    "sentiment_comparison"
   ]
  },
  {
   "cell_type": "code",
   "execution_count": 61,
   "metadata": {},
   "outputs": [
    {
     "data": {
      "image/png": "[encoded data removed]",
      "text/plain": [
       "<Figure size 432x432 with 1 Axes>"
      ]
     },
     "metadata": {},
     "output_type": "display_data"
    }
   ],
   "source": [
    "sns.set(font_scale=1.3)\n",
    "fig = plt.subplots(figsize=(6,6))\n",
    "ax = sns.barplot(data=sentiment_comparison, x='sentiment', y='text', hue=sentiment_comparison.index, \n",
    "            order=['Positive', 'Neutral', 'Negative'], hue_order=[1, 0])\n",
    "ax.set_ylabel('Percentage (%)\\n')\n",
    "ax.set_xlabel('\\nSentiment')\n",
    "ax.set_title('Any Difference in Sentiments\\nbetween Influencers and Non-influencers?\\n', fontsize=17, fontweight='bold')\n",
    "\n",
    "labels = ['influencer', 'non-influencer']\n",
    "h, l = ax.get_legend_handles_labels()\n",
    "ax.legend(h, labels, title=\"Influencer?\")\n",
    "plt.tight_layout()\n",
    "plt.savefig(os.getcwd()+'/figures/'+'sentiment_comparison.png')\n",
    "plt.show()"
   ]
  },
  {
   "cell_type": "markdown",
   "metadata": {},
   "source": [
    "### Insights\n",
    "- Overall, 21184 (47.08%) tweets were positive, 10602 (23.56%) were neutral, 13214 (29.36%) were negative about COVID-19 vaccines.\n",
    "- The dataset is then divided into two subgroups, influencers and non-influencers, based on the followers to observe any difference in sentiments between influencers and non-influencers (general public). \n",
    "    - Influencers tend to post positive and neutral tweets about COVID-19 vaccines.\n",
    "    - Percentage of negative tweets from non-influencers almost double the influencers."
   ]
  },
  {
   "cell_type": "markdown",
   "metadata": {},
   "source": [
    "### Additional Sentiment Analysis for tweets without retreets\n",
    "- This step is added to reduce duplicate tweets by removing retweets\n",
    "- Analysis steps are identical as above"
   ]
  },
  {
   "cell_type": "code",
   "execution_count": 612,
   "metadata": {},
   "outputs": [
    {
     "name": "stdout",
     "output_type": "stream",
     "text": [
      "Number of tweets scraped for 1 run is 2500\n",
      "Duration of 1 run is 1.66\n",
      "Number of tweets scraped for 2 run is 2500\n",
      "Duration of 2 run is 1.58\n",
      "Number of tweets scraped for 3 run is 2500\n",
      "Duration of 3 run is 1.63\n",
      "Number of tweets scraped for 4 run is 2500\n",
      "Duration of 4 run is 1.7\n",
      "Number of tweets scraped for 5 run is 2500\n",
      "Duration of 5 run is 1.85\n",
      "Number of tweets scraped for 6 run is 2500\n",
      "Duration of 6 run is 1.91\n",
      "Scraping Complete\n",
      "Duration of the program: 102.32\n"
     ]
    }
   ],
   "source": [
    "## Collect data again, this time filter out retweets\n",
    "# initialize variables\n",
    "keywords = '#vaccines OR #coronavaccines OR vaccines OR covid19+vaccines' + ' -filter:retweets'\n",
    "date_since = '2021-01-18'\n",
    "numTweets = 2500\n",
    "numRuns = 6\n",
    "\n",
    "# call the function\n",
    "scrape_tweets_to_csv(keywords, date_since, numTweets, numRuns)"
   ]
  },
  {
   "cell_type": "code",
   "execution_count": 40,
   "metadata": {},
   "outputs": [
    {
     "name": "stdout",
     "output_type": "stream",
     "text": [
      "(15000, 8)\n"
     ]
    }
   ],
   "source": [
    "# load all csv and create a dataframe\n",
    "data_path = os.getcwd() + '/noretweet_data/'\n",
    "filenames = glob.glob(data_path + '/*.csv')\n",
    "noretweet_df = []\n",
    "for filename in filenames:\n",
    "    noretweet_df.append(pd.read_csv(filename))\n",
    "\n",
    "noretweet_df = pd.concat(noretweet_df, ignore_index = True)\n",
    "print(noretweet_df.shape)"
   ]
  },
  {
   "cell_type": "code",
   "execution_count": 41,
   "metadata": {},
   "outputs": [
    {
     "data": {
      "text/html": [
       "<div>\n",
       "<style scoped>\n",
       "    .dataframe tbody tr th:only-of-type {\n",
       "        vertical-align: middle;\n",
       "    }\n",
       "\n",
       "    .dataframe tbody tr th {\n",
       "        vertical-align: top;\n",
       "    }\n",
       "\n",
       "    .dataframe thead th {\n",
       "        text-align: right;\n",
       "    }\n",
       "</style>\n",
       "<table border=\"1\" class=\"dataframe\">\n",
       "  <thead>\n",
       "    <tr style=\"text-align: right;\">\n",
       "      <th></th>\n",
       "      <th>following</th>\n",
       "      <th>followers</th>\n",
       "      <th>totaltweets</th>\n",
       "      <th>retweetcount</th>\n",
       "    </tr>\n",
       "  </thead>\n",
       "  <tbody>\n",
       "    <tr>\n",
       "      <th>count</th>\n",
       "      <td>15000.000000</td>\n",
       "      <td>1.500000e+04</td>\n",
       "      <td>1.500000e+04</td>\n",
       "      <td>15000.000000</td>\n",
       "    </tr>\n",
       "    <tr>\n",
       "      <th>mean</th>\n",
       "      <td>1407.323200</td>\n",
       "      <td>8.998657e+04</td>\n",
       "      <td>3.440394e+04</td>\n",
       "      <td>1.187000</td>\n",
       "    </tr>\n",
       "    <tr>\n",
       "      <th>std</th>\n",
       "      <td>3403.357243</td>\n",
       "      <td>1.282179e+06</td>\n",
       "      <td>9.558778e+04</td>\n",
       "      <td>19.845477</td>\n",
       "    </tr>\n",
       "    <tr>\n",
       "      <th>min</th>\n",
       "      <td>0.000000</td>\n",
       "      <td>0.000000e+00</td>\n",
       "      <td>1.000000e+00</td>\n",
       "      <td>0.000000</td>\n",
       "    </tr>\n",
       "    <tr>\n",
       "      <th>25%</th>\n",
       "      <td>160.000000</td>\n",
       "      <td>8.000000e+01</td>\n",
       "      <td>1.518000e+03</td>\n",
       "      <td>0.000000</td>\n",
       "    </tr>\n",
       "    <tr>\n",
       "      <th>50%</th>\n",
       "      <td>504.000000</td>\n",
       "      <td>4.545000e+02</td>\n",
       "      <td>7.034000e+03</td>\n",
       "      <td>0.000000</td>\n",
       "    </tr>\n",
       "    <tr>\n",
       "      <th>75%</th>\n",
       "      <td>1345.250000</td>\n",
       "      <td>2.385000e+03</td>\n",
       "      <td>2.564375e+04</td>\n",
       "      <td>0.000000</td>\n",
       "    </tr>\n",
       "    <tr>\n",
       "      <th>max</th>\n",
       "      <td>91412.000000</td>\n",
       "      <td>6.493206e+07</td>\n",
       "      <td>1.606005e+06</td>\n",
       "      <td>1401.000000</td>\n",
       "    </tr>\n",
       "  </tbody>\n",
       "</table>\n",
       "</div>"
      ],
      "text/plain": [
       "          following     followers   totaltweets  retweetcount\n",
       "count  15000.000000  1.500000e+04  1.500000e+04  15000.000000\n",
       "mean    1407.323200  8.998657e+04  3.440394e+04      1.187000\n",
       "std     3403.357243  1.282179e+06  9.558778e+04     19.845477\n",
       "min        0.000000  0.000000e+00  1.000000e+00      0.000000\n",
       "25%      160.000000  8.000000e+01  1.518000e+03      0.000000\n",
       "50%      504.000000  4.545000e+02  7.034000e+03      0.000000\n",
       "75%     1345.250000  2.385000e+03  2.564375e+04      0.000000\n",
       "max    91412.000000  6.493206e+07  1.606005e+06   1401.000000"
      ]
     },
     "execution_count": 41,
     "metadata": {},
     "output_type": "execute_result"
    }
   ],
   "source": [
    "noretweet_df.describe()"
   ]
  },
  {
   "cell_type": "code",
   "execution_count": 42,
   "metadata": {},
   "outputs": [
    {
     "data": {
      "text/html": [
       "<div>\n",
       "<style scoped>\n",
       "    .dataframe tbody tr th:only-of-type {\n",
       "        vertical-align: middle;\n",
       "    }\n",
       "\n",
       "    .dataframe tbody tr th {\n",
       "        vertical-align: top;\n",
       "    }\n",
       "\n",
       "    .dataframe thead th {\n",
       "        text-align: right;\n",
       "    }\n",
       "</style>\n",
       "<table border=\"1\" class=\"dataframe\">\n",
       "  <thead>\n",
       "    <tr style=\"text-align: right;\">\n",
       "      <th></th>\n",
       "      <th>following</th>\n",
       "      <th>followers</th>\n",
       "      <th>totaltweets</th>\n",
       "      <th>retweetcount</th>\n",
       "    </tr>\n",
       "  </thead>\n",
       "  <tbody>\n",
       "    <tr>\n",
       "      <th>count</th>\n",
       "      <td>15000.000000</td>\n",
       "      <td>1.500000e+04</td>\n",
       "      <td>1.500000e+04</td>\n",
       "      <td>15000.000000</td>\n",
       "    </tr>\n",
       "    <tr>\n",
       "      <th>mean</th>\n",
       "      <td>1407.323200</td>\n",
       "      <td>8.998657e+04</td>\n",
       "      <td>3.440394e+04</td>\n",
       "      <td>1.187000</td>\n",
       "    </tr>\n",
       "    <tr>\n",
       "      <th>std</th>\n",
       "      <td>3403.357243</td>\n",
       "      <td>1.282179e+06</td>\n",
       "      <td>9.558778e+04</td>\n",
       "      <td>19.845477</td>\n",
       "    </tr>\n",
       "    <tr>\n",
       "      <th>min</th>\n",
       "      <td>0.000000</td>\n",
       "      <td>0.000000e+00</td>\n",
       "      <td>1.000000e+00</td>\n",
       "      <td>0.000000</td>\n",
       "    </tr>\n",
       "    <tr>\n",
       "      <th>25%</th>\n",
       "      <td>160.000000</td>\n",
       "      <td>8.000000e+01</td>\n",
       "      <td>1.518000e+03</td>\n",
       "      <td>0.000000</td>\n",
       "    </tr>\n",
       "    <tr>\n",
       "      <th>50%</th>\n",
       "      <td>504.000000</td>\n",
       "      <td>4.545000e+02</td>\n",
       "      <td>7.034000e+03</td>\n",
       "      <td>0.000000</td>\n",
       "    </tr>\n",
       "    <tr>\n",
       "      <th>75%</th>\n",
       "      <td>1345.250000</td>\n",
       "      <td>2.385000e+03</td>\n",
       "      <td>2.564375e+04</td>\n",
       "      <td>0.000000</td>\n",
       "    </tr>\n",
       "    <tr>\n",
       "      <th>max</th>\n",
       "      <td>91412.000000</td>\n",
       "      <td>6.493206e+07</td>\n",
       "      <td>1.606005e+06</td>\n",
       "      <td>1401.000000</td>\n",
       "    </tr>\n",
       "  </tbody>\n",
       "</table>\n",
       "</div>"
      ],
      "text/plain": [
       "          following     followers   totaltweets  retweetcount\n",
       "count  15000.000000  1.500000e+04  1.500000e+04  15000.000000\n",
       "mean    1407.323200  8.998657e+04  3.440394e+04      1.187000\n",
       "std     3403.357243  1.282179e+06  9.558778e+04     19.845477\n",
       "min        0.000000  0.000000e+00  1.000000e+00      0.000000\n",
       "25%      160.000000  8.000000e+01  1.518000e+03      0.000000\n",
       "50%      504.000000  4.545000e+02  7.034000e+03      0.000000\n",
       "75%     1345.250000  2.385000e+03  2.564375e+04      0.000000\n",
       "max    91412.000000  6.493206e+07  1.606005e+06   1401.000000"
      ]
     },
     "execution_count": 42,
     "metadata": {},
     "output_type": "execute_result"
    }
   ],
   "source": [
    "noRT_corpus_df = noretweet_df\n",
    "noRT_corpus_df.describe()"
   ]
  },
  {
   "cell_type": "code",
   "execution_count": 43,
   "metadata": {},
   "outputs": [],
   "source": [
    "# clean data\n",
    "noRT_corpus_df['text'] = noRT_corpus_df['text'].apply(lambda x: clean_text(x))\n",
    "noRT_corpus_df['text'] = noRT_corpus_df['text'].apply(lambda x: remove_special_punc(x))"
   ]
  },
  {
   "cell_type": "code",
   "execution_count": 44,
   "metadata": {},
   "outputs": [],
   "source": [
    "# generate polarity and subjectivity\n",
    "noRT_corpus_df['polarity'] = noRT_corpus_df['text'].apply(lambda x: polar_generator(x))\n",
    "noRT_corpus_df['subjectivity'] = noRT_corpus_df['text'].apply(lambda x: subj_generator(x))"
   ]
  },
  {
   "cell_type": "code",
   "execution_count": 45,
   "metadata": {},
   "outputs": [
    {
     "data": {
      "text/html": [
       "<div>\n",
       "<style scoped>\n",
       "    .dataframe tbody tr th:only-of-type {\n",
       "        vertical-align: middle;\n",
       "    }\n",
       "\n",
       "    .dataframe tbody tr th {\n",
       "        vertical-align: top;\n",
       "    }\n",
       "\n",
       "    .dataframe thead th {\n",
       "        text-align: right;\n",
       "    }\n",
       "</style>\n",
       "<table border=\"1\" class=\"dataframe\">\n",
       "  <thead>\n",
       "    <tr style=\"text-align: right;\">\n",
       "      <th></th>\n",
       "      <th>username</th>\n",
       "      <th>following</th>\n",
       "      <th>followers</th>\n",
       "      <th>totaltweets</th>\n",
       "      <th>tweetcreated</th>\n",
       "      <th>retweetcount</th>\n",
       "      <th>text</th>\n",
       "      <th>hashtags</th>\n",
       "      <th>polarity</th>\n",
       "      <th>subjectivity</th>\n",
       "      <th>sentiment</th>\n",
       "      <th>influencer</th>\n",
       "    </tr>\n",
       "  </thead>\n",
       "  <tbody>\n",
       "    <tr>\n",
       "      <th>0</th>\n",
       "      <td>coffeemadman</td>\n",
       "      <td>3083</td>\n",
       "      <td>4600</td>\n",
       "      <td>19579</td>\n",
       "      <td>2021-01-18 16:13:50</td>\n",
       "      <td>0</td>\n",
       "      <td>oh i see i think the vaccines are mostly handl...</td>\n",
       "      <td>[]</td>\n",
       "      <td>0.100000</td>\n",
       "      <td>0.2750</td>\n",
       "      <td>Positive</td>\n",
       "      <td>0</td>\n",
       "    </tr>\n",
       "    <tr>\n",
       "      <th>1</th>\n",
       "      <td>HealthWorksBC</td>\n",
       "      <td>6692</td>\n",
       "      <td>6088</td>\n",
       "      <td>32866</td>\n",
       "      <td>2021-01-18 16:13:48</td>\n",
       "      <td>0</td>\n",
       "      <td>vaccine nationalism puts world on brink of cat...</td>\n",
       "      <td>[{'text': 'morality', 'indices': [122, 131]}, ...</td>\n",
       "      <td>-0.158333</td>\n",
       "      <td>0.2750</td>\n",
       "      <td>Negative</td>\n",
       "      <td>0</td>\n",
       "    </tr>\n",
       "    <tr>\n",
       "      <th>2</th>\n",
       "      <td>Aly_Meek</td>\n",
       "      <td>1421</td>\n",
       "      <td>1329</td>\n",
       "      <td>15218</td>\n",
       "      <td>2021-01-18 16:13:45</td>\n",
       "      <td>0</td>\n",
       "      <td>ah ive just checked out your tweets we really ...</td>\n",
       "      <td>[]</td>\n",
       "      <td>0.175000</td>\n",
       "      <td>0.4875</td>\n",
       "      <td>Positive</td>\n",
       "      <td>0</td>\n",
       "    </tr>\n",
       "    <tr>\n",
       "      <th>3</th>\n",
       "      <td>tdpeyton2019</td>\n",
       "      <td>237</td>\n",
       "      <td>6</td>\n",
       "      <td>7</td>\n",
       "      <td>2021-01-18 16:13:45</td>\n",
       "      <td>0</td>\n",
       "      <td>when will the allegheny county health departme...</td>\n",
       "      <td>[]</td>\n",
       "      <td>0.400000</td>\n",
       "      <td>0.4000</td>\n",
       "      <td>Positive</td>\n",
       "      <td>0</td>\n",
       "    </tr>\n",
       "    <tr>\n",
       "      <th>4</th>\n",
       "      <td>notdred</td>\n",
       "      <td>681</td>\n",
       "      <td>8547</td>\n",
       "      <td>50508</td>\n",
       "      <td>2021-01-18 16:13:44</td>\n",
       "      <td>0</td>\n",
       "      <td>yes i think the emphasis should be on getting ...</td>\n",
       "      <td>[]</td>\n",
       "      <td>0.200000</td>\n",
       "      <td>0.6600</td>\n",
       "      <td>Positive</td>\n",
       "      <td>0</td>\n",
       "    </tr>\n",
       "  </tbody>\n",
       "</table>\n",
       "</div>"
      ],
      "text/plain": [
       "        username  following  followers  totaltweets         tweetcreated  \\\n",
       "0   coffeemadman       3083       4600        19579  2021-01-18 16:13:50   \n",
       "1  HealthWorksBC       6692       6088        32866  2021-01-18 16:13:48   \n",
       "2       Aly_Meek       1421       1329        15218  2021-01-18 16:13:45   \n",
       "3   tdpeyton2019        237          6            7  2021-01-18 16:13:45   \n",
       "4        notdred        681       8547        50508  2021-01-18 16:13:44   \n",
       "\n",
       "   retweetcount                                               text  \\\n",
       "0             0  oh i see i think the vaccines are mostly handl...   \n",
       "1             0  vaccine nationalism puts world on brink of cat...   \n",
       "2             0  ah ive just checked out your tweets we really ...   \n",
       "3             0  when will the allegheny county health departme...   \n",
       "4             0  yes i think the emphasis should be on getting ...   \n",
       "\n",
       "                                            hashtags  polarity  subjectivity  \\\n",
       "0                                                 []  0.100000        0.2750   \n",
       "1  [{'text': 'morality', 'indices': [122, 131]}, ... -0.158333        0.2750   \n",
       "2                                                 []  0.175000        0.4875   \n",
       "3                                                 []  0.400000        0.4000   \n",
       "4                                                 []  0.200000        0.6600   \n",
       "\n",
       "  sentiment  influencer  \n",
       "0  Positive           0  \n",
       "1  Negative           0  \n",
       "2  Positive           0  \n",
       "3  Positive           0  \n",
       "4  Positive           0  "
      ]
     },
     "execution_count": 45,
     "metadata": {},
     "output_type": "execute_result"
    }
   ],
   "source": [
    "# categorize polarity into positive, negative, neutral\n",
    "# categorize followers into influencer or not (1: influencer, 0: general public)\n",
    "noRT_corpus_df['sentiment'] = noRT_corpus_df['polarity'].apply(lambda x: sentiment_generator(x))\n",
    "noRT_corpus_df['influencer'] = noRT_corpus_df['followers'].apply(lambda x: influencer_identifier(x))\n",
    "noRT_corpus_df.head()"
   ]
  },
  {
   "cell_type": "code",
   "execution_count": 46,
   "metadata": {},
   "outputs": [
    {
     "name": "stdout",
     "output_type": "stream",
     "text": [
      "Number of total tweets (no retweets): 15000\n",
      "Average Polarity: 0.0834\n",
      "Average Subjectivity: 0.3991\n"
     ]
    }
   ],
   "source": [
    "# entire data (no retweets)\n",
    "print('Number of total tweets (no retweets): {}'.format(len(noRT_corpus_df)))\n",
    "print('Average Polarity: {}'.format(round(sum(noRT_corpus_df.polarity)/len(noRT_corpus_df),4)))\n",
    "print('Average Subjectivity: {}'.format(round(sum(noRT_corpus_df.subjectivity)/len(noRT_corpus_df),4)))"
   ]
  },
  {
   "cell_type": "code",
   "execution_count": 47,
   "metadata": {},
   "outputs": [],
   "source": [
    "# influencers with greater than or equal to 50,000 followers\n",
    "noRT_influencers = noRT_corpus_df[noRT_corpus_df['influencer']==1]"
   ]
  },
  {
   "cell_type": "code",
   "execution_count": 48,
   "metadata": {},
   "outputs": [
    {
     "name": "stdout",
     "output_type": "stream",
     "text": [
      "Number of Influencers (no retweets): 691\n",
      "Average Polarity of Influencers: 0.1143\n",
      "Average Subjectivity of Influencers: 0.3506\n"
     ]
    }
   ],
   "source": [
    "print('Number of Influencers (no retweets): {}'.format(len(noRT_influencers)))\n",
    "print('Average Polarity of Influencers: {}'.format(round(sum(noRT_influencers.polarity)/len(noRT_influencers),4)))\n",
    "print('Average Subjectivity of Influencers: {}'.format(round(sum(noRT_influencers.subjectivity)/len(noRT_influencers),4)))"
   ]
  },
  {
   "cell_type": "code",
   "execution_count": 49,
   "metadata": {},
   "outputs": [],
   "source": [
    "# general public with less than 50,000 followers\n",
    "noRT_general_public = noRT_corpus_df[noRT_corpus_df['influencer']==0]"
   ]
  },
  {
   "cell_type": "code",
   "execution_count": 50,
   "metadata": {
    "scrolled": true
   },
   "outputs": [
    {
     "name": "stdout",
     "output_type": "stream",
     "text": [
      "Number of Public (no retweets): 14309\n",
      "Average Polarity: 0.0819\n",
      "Average Subjectivity: 0.4014\n"
     ]
    }
   ],
   "source": [
    "print('Number of Public (no retweets): {}'.format(len(noRT_general_public)))\n",
    "print('Average Polarity: {}'.format(round(sum(noRT_general_public.polarity)/len(noRT_general_public),4)))\n",
    "print('Average Subjectivity: {}'.format(round(sum(noRT_general_public.subjectivity)/len(noRT_general_public),4)))"
   ]
  },
  {
   "cell_type": "markdown",
   "metadata": {},
   "source": [
    "### Visualization"
   ]
  },
  {
   "cell_type": "code",
   "execution_count": 57,
   "metadata": {},
   "outputs": [
    {
     "data": {
      "image/png": "[encoded data removed]",
      "text/plain": [
       "<Figure size 432x288 with 1 Axes>"
      ]
     },
     "metadata": {},
     "output_type": "display_data"
    }
   ],
   "source": [
    "labels = ['Positive', 'Neutral', 'Negative']\n",
    "sns.set(font_scale=1.3)\n",
    "ax = sns.countplot(data=noRT_corpus_df, x='sentiment', order=labels)\n",
    "ax.set_title('Overall Sentiment on COVID-19 Vaccines (No Retweets)\\n', fontsize=17, fontweight='bold')\n",
    "plt.show()"
   ]
  },
  {
   "cell_type": "code",
   "execution_count": 52,
   "metadata": {},
   "outputs": [
    {
     "data": {
      "text/html": [
       "<div>\n",
       "<style scoped>\n",
       "    .dataframe tbody tr th:only-of-type {\n",
       "        vertical-align: middle;\n",
       "    }\n",
       "\n",
       "    .dataframe tbody tr th {\n",
       "        vertical-align: top;\n",
       "    }\n",
       "\n",
       "    .dataframe thead th {\n",
       "        text-align: right;\n",
       "    }\n",
       "</style>\n",
       "<table border=\"1\" class=\"dataframe\">\n",
       "  <thead>\n",
       "    <tr style=\"text-align: right;\">\n",
       "      <th></th>\n",
       "      <th>sentiment</th>\n",
       "      <th>count</th>\n",
       "      <th>percentage</th>\n",
       "    </tr>\n",
       "  </thead>\n",
       "  <tbody>\n",
       "    <tr>\n",
       "      <th>0</th>\n",
       "      <td>Negative</td>\n",
       "      <td>3471</td>\n",
       "      <td>23.14</td>\n",
       "    </tr>\n",
       "    <tr>\n",
       "      <th>1</th>\n",
       "      <td>Neutral</td>\n",
       "      <td>3651</td>\n",
       "      <td>24.34</td>\n",
       "    </tr>\n",
       "    <tr>\n",
       "      <th>2</th>\n",
       "      <td>Positive</td>\n",
       "      <td>7878</td>\n",
       "      <td>52.52</td>\n",
       "    </tr>\n",
       "  </tbody>\n",
       "</table>\n",
       "</div>"
      ],
      "text/plain": [
       "  sentiment  count  percentage\n",
       "0  Negative   3471       23.14\n",
       "1   Neutral   3651       24.34\n",
       "2  Positive   7878       52.52"
      ]
     },
     "execution_count": 52,
     "metadata": {},
     "output_type": "execute_result"
    }
   ],
   "source": [
    "noRT_sentiment_count = noRT_corpus_df.groupby('sentiment')['text'].count().reset_index(name='count')\n",
    "noRT_sentiment_count['percentage'] = round(100 * noRT_sentiment_count['count'] / noRT_sentiment_count['count'].sum(), 2)\n",
    "noRT_sentiment_count"
   ]
  },
  {
   "cell_type": "code",
   "execution_count": 58,
   "metadata": {},
   "outputs": [
    {
     "data": {
      "image/png": "[encoded data removed]",
      "text/plain": [
       "<Figure size 432x288 with 1 Axes>"
      ]
     },
     "metadata": {},
     "output_type": "display_data"
    }
   ],
   "source": [
    "sns.set(font_scale=1.3)\n",
    "ax = sns.countplot(data=noRT_influencers, x='sentiment', order=labels)\n",
    "ax.set_title('Influencers Sentiment on COVID-19 Vaccines (No Retweets)\\n', fontsize=17, fontweight='bold')\n",
    "plt.show()"
   ]
  },
  {
   "cell_type": "code",
   "execution_count": 59,
   "metadata": {
    "scrolled": true
   },
   "outputs": [
    {
     "data": {
      "image/png": "[encoded data removed]",
      "text/plain": [
       "<Figure size 432x288 with 1 Axes>"
      ]
     },
     "metadata": {},
     "output_type": "display_data"
    }
   ],
   "source": [
    "sns.set(font_scale=1.3)\n",
    "ax = sns.countplot(data=noRT_general_public, x='sentiment', order=labels)\n",
    "ax.set_title('Public Sentiment on COVID-19 Vaccines (No Retweets)\\n', fontsize=17, fontweight='bold')\n",
    "plt.show()"
   ]
  },
  {
   "cell_type": "code",
   "execution_count": 55,
   "metadata": {},
   "outputs": [],
   "source": [
    "noRT_sentiment_comparison = noRT_corpus_df.groupby(['influencer', 'sentiment']).agg({'text':'count'})\n",
    "noRT_sentiment_comparison = noRT_sentiment_comparison.groupby(level=0).apply(lambda x: 100 * x / float(x.sum())).reset_index()\n",
    "noRT_sentiment_comparison.set_index('influencer', inplace=True)"
   ]
  },
  {
   "cell_type": "code",
   "execution_count": 60,
   "metadata": {},
   "outputs": [
    {
     "data": {
      "image/png": "[encoded data removed]",
      "text/plain": [
       "<Figure size 432x432 with 1 Axes>"
      ]
     },
     "metadata": {},
     "output_type": "display_data"
    }
   ],
   "source": [
    "sns.set(font_scale=1.3)\n",
    "fig = plt.subplots(figsize=(6,6))\n",
    "ax = sns.barplot(data=noRT_sentiment_comparison, x='sentiment', y='text', hue=noRT_sentiment_comparison.index, \n",
    "            order=['Positive', 'Neutral', 'Negative'], hue_order=[1,0])\n",
    "ax.set_ylabel('percentage (%)')\n",
    "ax.set_title('Any Difference in Sentiments\\nbetween Influencers and Non-influencers?\\n(No Retweet Dataset)\\n', fontsize=17, fontweight='bold')\n",
    "\n",
    "labels = ['influencer', 'non-influencer']\n",
    "h, l = ax.get_legend_handles_labels()\n",
    "ax.legend(h, labels, title=\"Influencer?\")\n",
    "plt.tight_layout()\n",
    "plt.savefig(os.getcwd()+'/figures/'+'sentiment_comparison_noretweet.png')\n",
    "plt.show()"
   ]
  },
  {
   "cell_type": "markdown",
   "metadata": {},
   "source": [
    "### Insights"
   ]
  },
  {
   "cell_type": "markdown",
   "metadata": {},
   "source": [
    "- Similar result is observed as original data\n"
   ]
  },
  {
   "cell_type": "markdown",
   "metadata": {},
   "source": [
    "## Future Work & Notes\n",
    "- Clean text further (foreign language and special punctuation still exist)\n",
    "- Try to increase the range of 'Neutral' and observe the result:\n",
    "    - Currently, 'Neutral' is assumed to be polarity == 0.\n",
    "    - However, the range can be increased to, for example, -0.1 to 0.1 as they are weak positive and negative\n",
    "- Althogh the result shows majority of sentiments are positive, the magnitude of positivity is small (approximately 0.1)"
   ]
  },
  {
   "cell_type": "code",
   "execution_count": null,
   "metadata": {},
   "outputs": [],
   "source": []
  }
 ],
 "metadata": {
  "kernelspec": {
   "display_name": "Python 3",
   "language": "python",
   "name": "python3"
  },
  "language_info": {
   "codemirror_mode": {
    "name": "ipython",
    "version": 3
   },
   "file_extension": ".py",
   "mimetype": "text/x-python",
   "name": "python",
   "nbconvert_exporter": "python",
   "pygments_lexer": "ipython3",
   "version": "3.7.4"
  }
 },
 "nbformat": 4,
 "nbformat_minor": 4
}
